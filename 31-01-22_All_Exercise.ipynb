{
 "cells": [
  {
   "cell_type": "code",
   "execution_count": null,
   "id": "784cae67",
   "metadata": {},
   "outputs": [],
   "source": [
    "#introduction of python\n",
    "# history of python\n",
    "# features of python\n",
    "# application of python\n",
    "\n",
    "# how to download python and install \n",
    "# how to download IDE  and use  -  ex first open cmd and write pip install jupyter notebook"
   ]
  },
  {
   "cell_type": "code",
   "execution_count": null,
   "id": "36c75708",
   "metadata": {},
   "outputs": [],
   "source": [
    "# what is module. types of module and how to install external module  ex. pip install flask"
   ]
  },
  {
   "cell_type": "code",
   "execution_count": null,
   "id": "fdd0854a",
   "metadata": {},
   "outputs": [],
   "source": [
    "# what is pip  pip is a package manager"
   ]
  },
  {
   "cell_type": "code",
   "execution_count": null,
   "id": "827fd66e",
   "metadata": {},
   "outputs": [],
   "source": [
    "#what is repl (read evaluate print loop) for ex in cmd 3+4 work as a calculator"
   ]
  },
  {
   "cell_type": "code",
   "execution_count": null,
   "id": "9abea877",
   "metadata": {},
   "outputs": [],
   "source": [
    "# what is comment  - comment are used to (code are more readable)"
   ]
  },
  {
   "cell_type": "code",
   "execution_count": null,
   "id": "22e8fa8c",
   "metadata": {},
   "outputs": [],
   "source": [
    "types of comment 1. single line comment (#), 1. multiline comment ('''comment''')"
   ]
  },
  {
   "cell_type": "code",
   "execution_count": null,
   "id": "ffbf65ce",
   "metadata": {},
   "outputs": [],
   "source": [
    "# First Python Program Print Hello World!-------"
   ]
  },
  {
   "cell_type": "code",
   "execution_count": 1,
   "id": "d83c08e2",
   "metadata": {},
   "outputs": [
    {
     "name": "stdout",
     "output_type": "stream",
     "text": [
      "Hello World!\n"
     ]
    }
   ],
   "source": [
    "print(\"Hello World!\")"
   ]
  },
  {
   "cell_type": "code",
   "execution_count": null,
   "id": "f15adb9d",
   "metadata": {},
   "outputs": [],
   "source": [
    "# variable"
   ]
  },
  {
   "cell_type": "code",
   "execution_count": null,
   "id": "a22caf9e",
   "metadata": {},
   "outputs": [],
   "source": [
    "# variable are container for store a value"
   ]
  },
  {
   "cell_type": "code",
   "execution_count": null,
   "id": "dfa524a7",
   "metadata": {},
   "outputs": [],
   "source": [
    "# for ex. a=10    a is a variable and 10 is a value"
   ]
  },
  {
   "cell_type": "code",
   "execution_count": 2,
   "id": "b0d3b903",
   "metadata": {},
   "outputs": [],
   "source": [
    "# Rules for define variable"
   ]
  },
  {
   "cell_type": "code",
   "execution_count": null,
   "id": "5f0594eb",
   "metadata": {},
   "outputs": [],
   "source": [
    "# 1. variable are contain alphabets, digits and underscore.\n",
    "# 2. variable name start only alphabet or underscore.\n",
    "# 3. variable can't start with number.\n",
    "# 4. in variable can not use white space or symbols.\n",
    "# 5. variable name are case-sensitive"
   ]
  },
  {
   "cell_type": "code",
   "execution_count": 3,
   "id": "09ad5a44",
   "metadata": {},
   "outputs": [],
   "source": [
    "# what is data types"
   ]
  },
  {
   "cell_type": "code",
   "execution_count": 4,
   "id": "e8fe338c",
   "metadata": {},
   "outputs": [],
   "source": [
    "# data type means which types of data can be store in a variable..."
   ]
  },
  {
   "cell_type": "code",
   "execution_count": 12,
   "id": "49bb7916",
   "metadata": {},
   "outputs": [],
   "source": [
    " \n",
    "# list of data types in python...\n",
    "# 1) number \n",
    "#     integer\n",
    "#     float\n",
    "#     complex number\n",
    "\n",
    "# 2) sequence types\n",
    "#     string\n",
    "#     list\n",
    "#     tuple\n",
    "    \n",
    "# 3) dictionary\n",
    "\n",
    "# 4) set\n",
    "\n",
    "\n"
   ]
  },
  {
   "cell_type": "code",
   "execution_count": null,
   "id": "3841f3dd",
   "metadata": {},
   "outputs": [],
   "source": [
    "# integer data types"
   ]
  },
  {
   "cell_type": "code",
   "execution_count": 13,
   "id": "eb8e5791",
   "metadata": {},
   "outputs": [],
   "source": [
    "# positive value or negative value in integer"
   ]
  },
  {
   "cell_type": "code",
   "execution_count": 14,
   "id": "7cc7dcbc",
   "metadata": {},
   "outputs": [],
   "source": [
    "a=10"
   ]
  },
  {
   "cell_type": "code",
   "execution_count": 15,
   "id": "d0c5edb3",
   "metadata": {},
   "outputs": [
    {
     "name": "stdout",
     "output_type": "stream",
     "text": [
      "10\n"
     ]
    }
   ],
   "source": [
    "print(a)"
   ]
  },
  {
   "cell_type": "code",
   "execution_count": 16,
   "id": "fd926b4a",
   "metadata": {},
   "outputs": [],
   "source": [
    "a=-10"
   ]
  },
  {
   "cell_type": "code",
   "execution_count": 17,
   "id": "4f063dca",
   "metadata": {},
   "outputs": [
    {
     "data": {
      "text/plain": [
       "-10"
      ]
     },
     "execution_count": 17,
     "metadata": {},
     "output_type": "execute_result"
    }
   ],
   "source": [
    "a"
   ]
  },
  {
   "cell_type": "code",
   "execution_count": 18,
   "id": "1f92b231",
   "metadata": {},
   "outputs": [],
   "source": [
    "# type() function is used to find a data type"
   ]
  },
  {
   "cell_type": "code",
   "execution_count": 19,
   "id": "401749dc",
   "metadata": {},
   "outputs": [],
   "source": [
    "a=20\n"
   ]
  },
  {
   "cell_type": "code",
   "execution_count": 20,
   "id": "c06a5d65",
   "metadata": {},
   "outputs": [
    {
     "data": {
      "text/plain": [
       "int"
      ]
     },
     "execution_count": 20,
     "metadata": {},
     "output_type": "execute_result"
    }
   ],
   "source": [
    "type(a)"
   ]
  },
  {
   "cell_type": "code",
   "execution_count": 22,
   "id": "c7d6f4bf",
   "metadata": {},
   "outputs": [
    {
     "name": "stdout",
     "output_type": "stream",
     "text": [
      "20 <class 'int'>\n"
     ]
    }
   ],
   "source": [
    "print(a,type(a))"
   ]
  },
  {
   "cell_type": "code",
   "execution_count": 23,
   "id": "fb5d3d3e",
   "metadata": {},
   "outputs": [],
   "source": [
    "a=10.5   #float data type "
   ]
  },
  {
   "cell_type": "code",
   "execution_count": 24,
   "id": "4b73616f",
   "metadata": {},
   "outputs": [
    {
     "name": "stdout",
     "output_type": "stream",
     "text": [
      "10.5 <class 'float'>\n"
     ]
    }
   ],
   "source": [
    "print(a, type(a))"
   ]
  },
  {
   "cell_type": "code",
   "execution_count": 25,
   "id": "00bfa58e",
   "metadata": {},
   "outputs": [],
   "source": [
    "a=10+5j"
   ]
  },
  {
   "cell_type": "code",
   "execution_count": 26,
   "id": "25ca2292",
   "metadata": {},
   "outputs": [
    {
     "name": "stdout",
     "output_type": "stream",
     "text": [
      "<class 'complex'>\n"
     ]
    }
   ],
   "source": [
    "print(type(a))"
   ]
  },
  {
   "cell_type": "code",
   "execution_count": 27,
   "id": "9af94f1c",
   "metadata": {},
   "outputs": [
    {
     "name": "stdout",
     "output_type": "stream",
     "text": [
      "10.0\n"
     ]
    }
   ],
   "source": [
    "print(a.real)"
   ]
  },
  {
   "cell_type": "code",
   "execution_count": 28,
   "id": "efeba0cd",
   "metadata": {},
   "outputs": [
    {
     "name": "stdout",
     "output_type": "stream",
     "text": [
      "5.0\n"
     ]
    }
   ],
   "source": [
    "print(a.imag)"
   ]
  },
  {
   "cell_type": "code",
   "execution_count": 29,
   "id": "c13dae3e",
   "metadata": {},
   "outputs": [
    {
     "name": "stdout",
     "output_type": "stream",
     "text": [
      "(10-5j)\n"
     ]
    }
   ],
   "source": [
    "print(a.conjugate())"
   ]
  },
  {
   "cell_type": "code",
   "execution_count": 30,
   "id": "5d9fd5b8",
   "metadata": {},
   "outputs": [],
   "source": [
    "a=\"31\""
   ]
  },
  {
   "cell_type": "code",
   "execution_count": 31,
   "id": "c4cf2f5c",
   "metadata": {},
   "outputs": [
    {
     "data": {
      "text/plain": [
       "'31'"
      ]
     },
     "execution_count": 31,
     "metadata": {},
     "output_type": "execute_result"
    }
   ],
   "source": [
    "a"
   ]
  },
  {
   "cell_type": "code",
   "execution_count": 32,
   "id": "b9f77696",
   "metadata": {},
   "outputs": [
    {
     "name": "stdout",
     "output_type": "stream",
     "text": [
      "31 <class 'str'>\n"
     ]
    }
   ],
   "source": [
    "print(a,type(a))"
   ]
  },
  {
   "cell_type": "code",
   "execution_count": 33,
   "id": "f5ed94cb",
   "metadata": {},
   "outputs": [],
   "source": [
    "# type casting\n"
   ]
  },
  {
   "cell_type": "code",
   "execution_count": 34,
   "id": "ab7eb705",
   "metadata": {},
   "outputs": [],
   "source": [
    "# convert a one datatype into another datatype"
   ]
  },
  {
   "cell_type": "code",
   "execution_count": 37,
   "id": "9603258f",
   "metadata": {},
   "outputs": [],
   "source": [
    "a=int('10')"
   ]
  },
  {
   "cell_type": "code",
   "execution_count": 38,
   "id": "a85f440d",
   "metadata": {},
   "outputs": [
    {
     "data": {
      "text/plain": [
       "int"
      ]
     },
     "execution_count": 38,
     "metadata": {},
     "output_type": "execute_result"
    }
   ],
   "source": [
    "type(a)"
   ]
  },
  {
   "cell_type": "code",
   "execution_count": 42,
   "id": "e5d735c0",
   "metadata": {},
   "outputs": [],
   "source": [
    "a=str(10)"
   ]
  },
  {
   "cell_type": "code",
   "execution_count": 43,
   "id": "ecbb03a9",
   "metadata": {},
   "outputs": [
    {
     "data": {
      "text/plain": [
       "'10'"
      ]
     },
     "execution_count": 43,
     "metadata": {},
     "output_type": "execute_result"
    }
   ],
   "source": [
    "a"
   ]
  },
  {
   "cell_type": "code",
   "execution_count": 44,
   "id": "77173de9",
   "metadata": {},
   "outputs": [
    {
     "data": {
      "text/plain": [
       "str"
      ]
     },
     "execution_count": 44,
     "metadata": {},
     "output_type": "execute_result"
    }
   ],
   "source": [
    "type(a)"
   ]
  },
  {
   "cell_type": "code",
   "execution_count": 47,
   "id": "b1569cc1",
   "metadata": {},
   "outputs": [],
   "source": [
    "a=float(40)"
   ]
  },
  {
   "cell_type": "code",
   "execution_count": 48,
   "id": "7e2928b7",
   "metadata": {},
   "outputs": [
    {
     "data": {
      "text/plain": [
       "float"
      ]
     },
     "execution_count": 48,
     "metadata": {},
     "output_type": "execute_result"
    }
   ],
   "source": [
    "type(a)"
   ]
  },
  {
   "cell_type": "code",
   "execution_count": 58,
   "id": "6a38af28",
   "metadata": {},
   "outputs": [],
   "source": [
    "c1=int('10')"
   ]
  },
  {
   "cell_type": "code",
   "execution_count": null,
   "id": "eec969f2",
   "metadata": {},
   "outputs": [],
   "source": [
    "b1=int('20')"
   ]
  },
  {
   "cell_type": "code",
   "execution_count": 1,
   "id": "76255eb3",
   "metadata": {},
   "outputs": [
    {
     "name": "stdout",
     "output_type": "stream",
     "text": [
      "hello\n"
     ]
    }
   ],
   "source": [
    "a=input()"
   ]
  },
  {
   "cell_type": "code",
   "execution_count": 2,
   "id": "313d57f2",
   "metadata": {},
   "outputs": [
    {
     "name": "stdout",
     "output_type": "stream",
     "text": [
      "Enter first name:-hardik\n"
     ]
    }
   ],
   "source": [
    "a=input(\"Enter first name:-\")"
   ]
  },
  {
   "cell_type": "code",
   "execution_count": 3,
   "id": "ecbcaaaa",
   "metadata": {},
   "outputs": [
    {
     "data": {
      "text/plain": [
       "str"
      ]
     },
     "execution_count": 3,
     "metadata": {},
     "output_type": "execute_result"
    }
   ],
   "source": [
    "type(a)"
   ]
  },
  {
   "cell_type": "code",
   "execution_count": 2,
   "id": "adedffb2",
   "metadata": {},
   "outputs": [
    {
     "name": "stdout",
     "output_type": "stream",
     "text": [
      "enter first number:-11\n",
      "enter second number:-22\n",
      "33\n"
     ]
    }
   ],
   "source": [
    "a=int(input(\"enter first number:-\"))\n",
    "b=int(input(\"enter second number:-\"))\n",
    "sum=a+b\n",
    "print(sum)"
   ]
  },
  {
   "cell_type": "code",
   "execution_count": 3,
   "id": "6a09ff7d",
   "metadata": {},
   "outputs": [
    {
     "name": "stdout",
     "output_type": "stream",
     "text": [
      "<class 'int'>\n"
     ]
    }
   ],
   "source": [
    "print(type(sum))"
   ]
  },
  {
   "cell_type": "code",
   "execution_count": 10,
   "id": "dc5b9a76",
   "metadata": {},
   "outputs": [],
   "source": [
    "# there are main two types of data type"
   ]
  },
  {
   "cell_type": "code",
   "execution_count": 11,
   "id": "eebfd82c",
   "metadata": {},
   "outputs": [],
   "source": [
    "# 1) mutable - you can add , delete, update element   ex list, dictionary"
   ]
  },
  {
   "cell_type": "code",
   "execution_count": 13,
   "id": "49972919",
   "metadata": {},
   "outputs": [],
   "source": [
    "# 2)  immutable - can not change element ex integer, float, complex number, string, tuple, set"
   ]
  },
  {
   "cell_type": "code",
   "execution_count": 14,
   "id": "972d447a",
   "metadata": {},
   "outputs": [],
   "source": [
    "# string data type"
   ]
  },
  {
   "cell_type": "code",
   "execution_count": 16,
   "id": "e49e5620",
   "metadata": {},
   "outputs": [],
   "source": [
    "# string is sequence of character and inclosed in a quotes"
   ]
  },
  {
   "cell_type": "code",
   "execution_count": 17,
   "id": "5291756b",
   "metadata": {},
   "outputs": [],
   "source": [
    "a='hello' # single quote\n"
   ]
  },
  {
   "cell_type": "code",
   "execution_count": 18,
   "id": "d48fb2c9",
   "metadata": {},
   "outputs": [
    {
     "data": {
      "text/plain": [
       "'hello'"
      ]
     },
     "execution_count": 18,
     "metadata": {},
     "output_type": "execute_result"
    }
   ],
   "source": [
    "a"
   ]
  },
  {
   "cell_type": "code",
   "execution_count": 19,
   "id": "48ddda36",
   "metadata": {},
   "outputs": [],
   "source": [
    "a=\"hello\" # double quote"
   ]
  },
  {
   "cell_type": "code",
   "execution_count": 20,
   "id": "f54ec615",
   "metadata": {},
   "outputs": [
    {
     "data": {
      "text/plain": [
       "'hello'"
      ]
     },
     "execution_count": 20,
     "metadata": {},
     "output_type": "execute_result"
    }
   ],
   "source": [
    "a"
   ]
  },
  {
   "cell_type": "code",
   "execution_count": 21,
   "id": "d4f0a494",
   "metadata": {},
   "outputs": [],
   "source": [
    "a='''Python Lists - W3Schoolshttps://www.w3schools.com › python › python_lists\n",
    "Lists are used to store multiple items in a single variable. Lists are one of\n",
    "4 built-in data types in Python used to store collections of data, the other 3 are ...'''  # triple quote use in multiline string"
   ]
  },
  {
   "cell_type": "code",
   "execution_count": 23,
   "id": "9706a2f6",
   "metadata": {},
   "outputs": [
    {
     "data": {
      "text/plain": [
       "'Python Lists - W3Schoolshttps://www.w3schools.com › python › python_lists\\nLists are used to store multiple items in a single variable. Lists are one of\\n4 built-in data types in Python used to store collections of data, the other 3 are ...'"
      ]
     },
     "execution_count": 23,
     "metadata": {},
     "output_type": "execute_result"
    }
   ],
   "source": [
    "a"
   ]
  },
  {
   "cell_type": "code",
   "execution_count": 24,
   "id": "49c76fbc",
   "metadata": {},
   "outputs": [],
   "source": [
    "# string slicing   - get a range of character"
   ]
  },
  {
   "cell_type": "code",
   "execution_count": 25,
   "id": "4084deca",
   "metadata": {},
   "outputs": [],
   "source": [
    "# using index  [0,1,2,3,4---- -1,-2,-3-----]"
   ]
  },
  {
   "cell_type": "code",
   "execution_count": 26,
   "id": "fe5656d3",
   "metadata": {},
   "outputs": [],
   "source": [
    "a=\"Hello\""
   ]
  },
  {
   "cell_type": "code",
   "execution_count": 27,
   "id": "c466dcff",
   "metadata": {},
   "outputs": [
    {
     "data": {
      "text/plain": [
       "'Hello'"
      ]
     },
     "execution_count": 27,
     "metadata": {},
     "output_type": "execute_result"
    }
   ],
   "source": [
    "a"
   ]
  },
  {
   "cell_type": "code",
   "execution_count": 28,
   "id": "3479df8e",
   "metadata": {},
   "outputs": [
    {
     "name": "stdout",
     "output_type": "stream",
     "text": [
      "e\n"
     ]
    }
   ],
   "source": [
    "print(a[1])"
   ]
  },
  {
   "cell_type": "code",
   "execution_count": 31,
   "id": "bef32e22",
   "metadata": {},
   "outputs": [
    {
     "name": "stdout",
     "output_type": "stream",
     "text": [
      "H\n"
     ]
    }
   ],
   "source": [
    "print(a[-5])"
   ]
  },
  {
   "cell_type": "code",
   "execution_count": 34,
   "id": "803ad77d",
   "metadata": {},
   "outputs": [
    {
     "name": "stdout",
     "output_type": "stream",
     "text": [
      "ello\n"
     ]
    }
   ],
   "source": [
    "print(a[1:])"
   ]
  },
  {
   "cell_type": "code",
   "execution_count": 36,
   "id": "c5a54cb7",
   "metadata": {},
   "outputs": [
    {
     "name": "stdout",
     "output_type": "stream",
     "text": [
      "He\n"
     ]
    }
   ],
   "source": [
    "print(a[:-3])"
   ]
  },
  {
   "cell_type": "code",
   "execution_count": 37,
   "id": "7231e684",
   "metadata": {},
   "outputs": [
    {
     "name": "stdout",
     "output_type": "stream",
     "text": [
      "Hell\n"
     ]
    }
   ],
   "source": [
    "print(a[:4])"
   ]
  },
  {
   "cell_type": "code",
   "execution_count": 38,
   "id": "e9dbed7f",
   "metadata": {},
   "outputs": [
    {
     "data": {
      "text/plain": [
       "'Hello'"
      ]
     },
     "execution_count": 38,
     "metadata": {},
     "output_type": "execute_result"
    }
   ],
   "source": [
    "a"
   ]
  },
  {
   "cell_type": "code",
   "execution_count": 39,
   "id": "a7abbcf8",
   "metadata": {},
   "outputs": [
    {
     "name": "stdout",
     "output_type": "stream",
     "text": [
      "Hlo\n"
     ]
    }
   ],
   "source": [
    "print(a[0:5:2])"
   ]
  },
  {
   "cell_type": "code",
   "execution_count": 40,
   "id": "89f45609",
   "metadata": {},
   "outputs": [
    {
     "name": "stdout",
     "output_type": "stream",
     "text": [
      "olleH\n"
     ]
    }
   ],
   "source": [
    "print(a[::-1])"
   ]
  },
  {
   "cell_type": "code",
   "execution_count": 52,
   "id": "e97b95e5",
   "metadata": {},
   "outputs": [
    {
     "name": "stdout",
     "output_type": "stream",
     "text": [
      "Hlo\n"
     ]
    }
   ],
   "source": [
    "print(a[0:5:2])"
   ]
  },
  {
   "cell_type": "code",
   "execution_count": 53,
   "id": "335b8fd9",
   "metadata": {},
   "outputs": [],
   "source": [
    "# string function"
   ]
  },
  {
   "cell_type": "code",
   "execution_count": 54,
   "id": "9db81870",
   "metadata": {},
   "outputs": [],
   "source": [
    "a=\"Hello World\""
   ]
  },
  {
   "cell_type": "code",
   "execution_count": 55,
   "id": "c450d328",
   "metadata": {},
   "outputs": [
    {
     "data": {
      "text/plain": [
       "'Hello World'"
      ]
     },
     "execution_count": 55,
     "metadata": {},
     "output_type": "execute_result"
    }
   ],
   "source": [
    "a"
   ]
  },
  {
   "cell_type": "code",
   "execution_count": 56,
   "id": "cb5a4611",
   "metadata": {},
   "outputs": [
    {
     "name": "stdout",
     "output_type": "stream",
     "text": [
      "11\n"
     ]
    }
   ],
   "source": [
    "print(len(a))        # find the length of string"
   ]
  },
  {
   "cell_type": "code",
   "execution_count": 57,
   "id": "020949ec",
   "metadata": {},
   "outputs": [
    {
     "data": {
      "text/plain": [
       "1"
      ]
     },
     "execution_count": 57,
     "metadata": {},
     "output_type": "execute_result"
    }
   ],
   "source": [
    "a.count('Hello')    # returns number of times   character,word"
   ]
  },
  {
   "cell_type": "code",
   "execution_count": 58,
   "id": "4071a2dd",
   "metadata": {},
   "outputs": [
    {
     "data": {
      "text/plain": [
       "1"
      ]
     },
     "execution_count": 58,
     "metadata": {},
     "output_type": "execute_result"
    }
   ],
   "source": [
    "a.count('W')"
   ]
  },
  {
   "cell_type": "code",
   "execution_count": 59,
   "id": "1adf6138",
   "metadata": {},
   "outputs": [
    {
     "name": "stdout",
     "output_type": "stream",
     "text": [
      "2\n"
     ]
    }
   ],
   "source": [
    "print(a.count('o'))"
   ]
  },
  {
   "cell_type": "code",
   "execution_count": 65,
   "id": "9c926b8d",
   "metadata": {},
   "outputs": [
    {
     "name": "stdout",
     "output_type": "stream",
     "text": [
      "original string :- Hello World\n",
      "uppercase:- HELLO WORLD\n",
      "lowercase hello world\n",
      "capitalize:- Hello world\n",
      "title Hello World\n",
      "hELLO wORLD\n"
     ]
    }
   ],
   "source": [
    "print(\"original string :-\",a)\n",
    "print(\"uppercase:-\",a.upper())\n",
    "print(\"lowercase\",a.lower())\n",
    "print(\"capitalize:-\",a.capitalize())\n",
    "print(\"title\", a.title())\n",
    "print(a.swapcase())"
   ]
  },
  {
   "cell_type": "code",
   "execution_count": 67,
   "id": "03d48756",
   "metadata": {},
   "outputs": [
    {
     "name": "stdout",
     "output_type": "stream",
     "text": [
      "original string:- Hello World\n"
     ]
    }
   ],
   "source": [
    "print(\"original string:-\",a)"
   ]
  },
  {
   "cell_type": "code",
   "execution_count": 68,
   "id": "f5eded50",
   "metadata": {},
   "outputs": [
    {
     "name": "stdout",
     "output_type": "stream",
     "text": [
      "False\n"
     ]
    }
   ],
   "source": [
    "print(a.isupper())"
   ]
  },
  {
   "cell_type": "code",
   "execution_count": 70,
   "id": "98625019",
   "metadata": {},
   "outputs": [
    {
     "name": "stdout",
     "output_type": "stream",
     "text": [
      "False\n"
     ]
    }
   ],
   "source": [
    "print(a.islower())"
   ]
  },
  {
   "cell_type": "code",
   "execution_count": 71,
   "id": "fbea0027",
   "metadata": {},
   "outputs": [
    {
     "name": "stdout",
     "output_type": "stream",
     "text": [
      "False\n"
     ]
    }
   ],
   "source": [
    "print(a.isalpha())\n"
   ]
  },
  {
   "cell_type": "code",
   "execution_count": 72,
   "id": "f690f2b9",
   "metadata": {},
   "outputs": [
    {
     "name": "stdout",
     "output_type": "stream",
     "text": [
      "False\n"
     ]
    }
   ],
   "source": [
    "print(a.isalnum())"
   ]
  },
  {
   "cell_type": "code",
   "execution_count": 73,
   "id": "aef11fe0",
   "metadata": {},
   "outputs": [
    {
     "name": "stdout",
     "output_type": "stream",
     "text": [
      "False\n"
     ]
    }
   ],
   "source": [
    "print(a.isdigit())"
   ]
  },
  {
   "cell_type": "code",
   "execution_count": 74,
   "id": "f2becc8d",
   "metadata": {},
   "outputs": [
    {
     "data": {
      "text/plain": [
       "'Hello World'"
      ]
     },
     "execution_count": 74,
     "metadata": {},
     "output_type": "execute_result"
    }
   ],
   "source": [
    "a"
   ]
  },
  {
   "cell_type": "code",
   "execution_count": 75,
   "id": "3be541a2",
   "metadata": {},
   "outputs": [
    {
     "name": "stdout",
     "output_type": "stream",
     "text": [
      "                   Hello World                    \n"
     ]
    }
   ],
   "source": [
    "print(a.center(50))"
   ]
  },
  {
   "cell_type": "code",
   "execution_count": 76,
   "id": "7ac178c6",
   "metadata": {},
   "outputs": [
    {
     "name": "stdout",
     "output_type": "stream",
     "text": [
      "6\n"
     ]
    }
   ],
   "source": [
    "print(a.find('W'))"
   ]
  },
  {
   "cell_type": "code",
   "execution_count": 77,
   "id": "94dd1a1e",
   "metadata": {},
   "outputs": [
    {
     "name": "stdout",
     "output_type": "stream",
     "text": [
      "Hello Python\n"
     ]
    }
   ],
   "source": [
    "print(a.replace('World','Python'))"
   ]
  },
  {
   "cell_type": "code",
   "execution_count": 78,
   "id": "26ebc586",
   "metadata": {},
   "outputs": [],
   "source": [
    "a=\"             hello         \""
   ]
  },
  {
   "cell_type": "code",
   "execution_count": 79,
   "id": "71c86b34",
   "metadata": {},
   "outputs": [
    {
     "data": {
      "text/plain": [
       "'             hello         '"
      ]
     },
     "execution_count": 79,
     "metadata": {},
     "output_type": "execute_result"
    }
   ],
   "source": [
    "a"
   ]
  },
  {
   "cell_type": "code",
   "execution_count": 80,
   "id": "dc35e577",
   "metadata": {},
   "outputs": [
    {
     "name": "stdout",
     "output_type": "stream",
     "text": [
      "hello\n"
     ]
    }
   ],
   "source": [
    "print(a.strip())"
   ]
  },
  {
   "cell_type": "code",
   "execution_count": 84,
   "id": "48c381ed",
   "metadata": {},
   "outputs": [],
   "source": [
    "a='@hello   kk@'"
   ]
  },
  {
   "cell_type": "code",
   "execution_count": 85,
   "id": "e25c36ee",
   "metadata": {},
   "outputs": [
    {
     "data": {
      "text/plain": [
       "'@hello   kk@'"
      ]
     },
     "execution_count": 85,
     "metadata": {},
     "output_type": "execute_result"
    }
   ],
   "source": [
    "a"
   ]
  },
  {
   "cell_type": "code",
   "execution_count": 86,
   "id": "fb0e0b99",
   "metadata": {},
   "outputs": [
    {
     "name": "stdout",
     "output_type": "stream",
     "text": [
      "hello   kk\n"
     ]
    }
   ],
   "source": [
    "print(a.strip('@'))"
   ]
  },
  {
   "cell_type": "code",
   "execution_count": 87,
   "id": "db7fc74c",
   "metadata": {},
   "outputs": [],
   "source": [
    "a='Lists are used to store multiple items in a single variable. Lists are one of 4 built-in data types in Python used to store collections of data, the other'"
   ]
  },
  {
   "cell_type": "code",
   "execution_count": 88,
   "id": "5f6bd28e",
   "metadata": {},
   "outputs": [
    {
     "data": {
      "text/plain": [
       "'Lists are used to store multiple items in a single variable. Lists are one of 4 built-in data types in Python used to store collections of data, the other'"
      ]
     },
     "execution_count": 88,
     "metadata": {},
     "output_type": "execute_result"
    }
   ],
   "source": [
    "a"
   ]
  },
  {
   "cell_type": "code",
   "execution_count": 89,
   "id": "52225f0d",
   "metadata": {},
   "outputs": [
    {
     "data": {
      "text/plain": [
       "('Lists are used to store multiple items in a ',\n",
       " 'single',\n",
       " ' variable. Lists are one of 4 built-in data types in Python used to store collections of data, the other')"
      ]
     },
     "execution_count": 89,
     "metadata": {},
     "output_type": "execute_result"
    }
   ],
   "source": [
    "a.partition('single')"
   ]
  },
  {
   "cell_type": "code",
   "execution_count": 90,
   "id": "54650a46",
   "metadata": {},
   "outputs": [],
   "source": [
    "a='hello python how are you'\n"
   ]
  },
  {
   "cell_type": "code",
   "execution_count": 91,
   "id": "bb137e01",
   "metadata": {},
   "outputs": [
    {
     "data": {
      "text/plain": [
       "'hello python how are you'"
      ]
     },
     "execution_count": 91,
     "metadata": {},
     "output_type": "execute_result"
    }
   ],
   "source": [
    "a"
   ]
  },
  {
   "cell_type": "code",
   "execution_count": 93,
   "id": "85620637",
   "metadata": {},
   "outputs": [
    {
     "data": {
      "text/plain": [
       "['hello', 'python', 'how', 'are', 'you']"
      ]
     },
     "execution_count": 93,
     "metadata": {},
     "output_type": "execute_result"
    }
   ],
   "source": [
    "a.split(\" \")"
   ]
  },
  {
   "cell_type": "code",
   "execution_count": 94,
   "id": "5148d116",
   "metadata": {},
   "outputs": [],
   "source": [
    "s=a.split('python')"
   ]
  },
  {
   "cell_type": "code",
   "execution_count": 95,
   "id": "0e823f5d",
   "metadata": {},
   "outputs": [
    {
     "data": {
      "text/plain": [
       "['hello ', ' how are you']"
      ]
     },
     "execution_count": 95,
     "metadata": {},
     "output_type": "execute_result"
    }
   ],
   "source": [
    "s"
   ]
  },
  {
   "cell_type": "code",
   "execution_count": 96,
   "id": "cb1309d9",
   "metadata": {},
   "outputs": [
    {
     "data": {
      "text/plain": [
       "'hello PHP how are you'"
      ]
     },
     "execution_count": 96,
     "metadata": {},
     "output_type": "execute_result"
    }
   ],
   "source": [
    "\"PHP\".join(s)"
   ]
  },
  {
   "cell_type": "code",
   "execution_count": null,
   "id": "3482b71d",
   "metadata": {},
   "outputs": [],
   "source": [
    "# string concatenate"
   ]
  },
  {
   "cell_type": "code",
   "execution_count": 97,
   "id": "cc2c943f",
   "metadata": {},
   "outputs": [],
   "source": [
    "a='hello'"
   ]
  },
  {
   "cell_type": "code",
   "execution_count": 98,
   "id": "88213715",
   "metadata": {},
   "outputs": [],
   "source": [
    "b='python'"
   ]
  },
  {
   "cell_type": "code",
   "execution_count": 100,
   "id": "39d5567d",
   "metadata": {},
   "outputs": [
    {
     "name": "stdout",
     "output_type": "stream",
     "text": [
      "hello python\n"
     ]
    }
   ],
   "source": [
    "print(a+\" \"+b)"
   ]
  },
  {
   "cell_type": "code",
   "execution_count": 110,
   "id": "9564d145",
   "metadata": {},
   "outputs": [],
   "source": [
    "a=\"\\tLists are used to store multiple items in a\\ single variable.\\n Lists are one of 4 built-in data types in\""
   ]
  },
  {
   "cell_type": "code",
   "execution_count": 111,
   "id": "972ae8e8",
   "metadata": {},
   "outputs": [
    {
     "name": "stdout",
     "output_type": "stream",
     "text": [
      "\tLists are used to store multiple items in a\\ single variable.\n",
      " Lists are one of 4 built-in data types in\n"
     ]
    }
   ],
   "source": [
    "print(a)"
   ]
  },
  {
   "cell_type": "code",
   "execution_count": 113,
   "id": "dbd06d1f",
   "metadata": {},
   "outputs": [
    {
     "name": "stdout",
     "output_type": "stream",
     "text": [
      "1\n"
     ]
    }
   ],
   "source": [
    "print(a.index('List'))"
   ]
  },
  {
   "cell_type": "code",
   "execution_count": 115,
   "id": "f098ff3e",
   "metadata": {},
   "outputs": [
    {
     "name": "stdout",
     "output_type": "stream",
     "text": [
      "\tLists are used to store multiple items in a\\ single variable.\n",
      " Lists are one of 4 built-in data types in\n"
     ]
    }
   ],
   "source": [
    "print(a.translate('store'))"
   ]
  },
  {
   "cell_type": "code",
   "execution_count": 116,
   "id": "91500e45",
   "metadata": {},
   "outputs": [],
   "source": [
    "# list"
   ]
  },
  {
   "cell_type": "code",
   "execution_count": 117,
   "id": "c2578216",
   "metadata": {},
   "outputs": [],
   "source": [
    "# list is a mutable data type, [], store multiple value in a single variable,list are defined items in as ordered, duplicate value are allowed..."
   ]
  },
  {
   "cell_type": "code",
   "execution_count": 121,
   "id": "e5fceafd",
   "metadata": {},
   "outputs": [],
   "source": [
    "l1=['hello','python',10,10.5,10]"
   ]
  },
  {
   "cell_type": "code",
   "execution_count": 123,
   "id": "772a3b78",
   "metadata": {},
   "outputs": [
    {
     "name": "stdout",
     "output_type": "stream",
     "text": [
      "['hello', 'python', 10, 10.5, 10]\n"
     ]
    }
   ],
   "source": [
    "print(l1)"
   ]
  },
  {
   "cell_type": "code",
   "execution_count": 122,
   "id": "f6377dd7",
   "metadata": {},
   "outputs": [
    {
     "data": {
      "text/plain": [
       "list"
      ]
     },
     "execution_count": 122,
     "metadata": {},
     "output_type": "execute_result"
    }
   ],
   "source": [
    "type(l1)"
   ]
  },
  {
   "cell_type": "code",
   "execution_count": 124,
   "id": "b5e88fe8",
   "metadata": {},
   "outputs": [
    {
     "name": "stdout",
     "output_type": "stream",
     "text": [
      "python\n"
     ]
    }
   ],
   "source": [
    "print(l1[1])"
   ]
  },
  {
   "cell_type": "code",
   "execution_count": 125,
   "id": "b9c3a7cb",
   "metadata": {},
   "outputs": [
    {
     "name": "stdout",
     "output_type": "stream",
     "text": [
      "10\n"
     ]
    }
   ],
   "source": [
    "print(l1[-1])"
   ]
  },
  {
   "cell_type": "code",
   "execution_count": 126,
   "id": "02eecc8a",
   "metadata": {},
   "outputs": [
    {
     "name": "stdout",
     "output_type": "stream",
     "text": [
      "['hello', 'python', 10]\n"
     ]
    }
   ],
   "source": [
    "print(l1[0:3])"
   ]
  },
  {
   "cell_type": "code",
   "execution_count": 128,
   "id": "ed29dc83",
   "metadata": {},
   "outputs": [
    {
     "name": "stdout",
     "output_type": "stream",
     "text": [
      "['python', 10, 10.5]\n"
     ]
    }
   ],
   "source": [
    "print(l1[-4:-1])"
   ]
  },
  {
   "cell_type": "code",
   "execution_count": 129,
   "id": "25694c90",
   "metadata": {},
   "outputs": [
    {
     "name": "stdout",
     "output_type": "stream",
     "text": [
      "5\n"
     ]
    }
   ],
   "source": [
    "print(len(l1))"
   ]
  },
  {
   "cell_type": "code",
   "execution_count": 130,
   "id": "9dfdc180",
   "metadata": {},
   "outputs": [
    {
     "data": {
      "text/plain": [
       "['hello', 'python', 10, 10.5, 10]"
      ]
     },
     "execution_count": 130,
     "metadata": {},
     "output_type": "execute_result"
    }
   ],
   "source": [
    "l1"
   ]
  },
  {
   "cell_type": "code",
   "execution_count": 132,
   "id": "4c9725ea",
   "metadata": {},
   "outputs": [],
   "source": [
    "l1[2]=200"
   ]
  },
  {
   "cell_type": "code",
   "execution_count": 133,
   "id": "710eb7ce",
   "metadata": {},
   "outputs": [
    {
     "name": "stdout",
     "output_type": "stream",
     "text": [
      "['hello', 'python', 200, 10.5, 10]\n"
     ]
    }
   ],
   "source": [
    "print(l1)"
   ]
  },
  {
   "cell_type": "code",
   "execution_count": 135,
   "id": "b00ff793",
   "metadata": {},
   "outputs": [],
   "source": [
    "l1.append(\"300\")"
   ]
  },
  {
   "cell_type": "markdown",
   "id": "ab6cebdf",
   "metadata": {},
   "source": [
    "# "
   ]
  },
  {
   "cell_type": "code",
   "execution_count": 136,
   "id": "6e1d1385",
   "metadata": {},
   "outputs": [
    {
     "data": {
      "text/plain": [
       "['hello', 'python', 200, 10.5, 10, 'hii', '300']"
      ]
     },
     "execution_count": 136,
     "metadata": {},
     "output_type": "execute_result"
    }
   ],
   "source": [
    "l1"
   ]
  },
  {
   "cell_type": "code",
   "execution_count": 137,
   "id": "ea3b45f7",
   "metadata": {},
   "outputs": [],
   "source": [
    "l1.insert(1,\"PHP\")"
   ]
  },
  {
   "cell_type": "code",
   "execution_count": 138,
   "id": "daf1fca1",
   "metadata": {},
   "outputs": [
    {
     "data": {
      "text/plain": [
       "['hello', 'PHP', 'python', 200, 10.5, 10, 'hii', '300']"
      ]
     },
     "execution_count": 138,
     "metadata": {},
     "output_type": "execute_result"
    }
   ],
   "source": [
    "l1"
   ]
  },
  {
   "cell_type": "code",
   "execution_count": 139,
   "id": "35d66816",
   "metadata": {},
   "outputs": [],
   "source": [
    "l1.remove(\"PHP\")"
   ]
  },
  {
   "cell_type": "code",
   "execution_count": 140,
   "id": "02802988",
   "metadata": {},
   "outputs": [
    {
     "data": {
      "text/plain": [
       "['hello', 'python', 200, 10.5, 10, 'hii', '300']"
      ]
     },
     "execution_count": 140,
     "metadata": {},
     "output_type": "execute_result"
    }
   ],
   "source": [
    "l1"
   ]
  },
  {
   "cell_type": "code",
   "execution_count": 141,
   "id": "f0e861ac",
   "metadata": {},
   "outputs": [
    {
     "data": {
      "text/plain": [
       "'300'"
      ]
     },
     "execution_count": 141,
     "metadata": {},
     "output_type": "execute_result"
    }
   ],
   "source": [
    "l1.pop()"
   ]
  },
  {
   "cell_type": "code",
   "execution_count": 142,
   "id": "ee1eb32d",
   "metadata": {},
   "outputs": [
    {
     "data": {
      "text/plain": [
       "['hello', 'python', 200, 10.5, 10, 'hii']"
      ]
     },
     "execution_count": 142,
     "metadata": {},
     "output_type": "execute_result"
    }
   ],
   "source": [
    "l1"
   ]
  },
  {
   "cell_type": "code",
   "execution_count": 143,
   "id": "d8daaaa1",
   "metadata": {},
   "outputs": [
    {
     "data": {
      "text/plain": [
       "'hii'"
      ]
     },
     "execution_count": 143,
     "metadata": {},
     "output_type": "execute_result"
    }
   ],
   "source": [
    "l1.pop(5)"
   ]
  },
  {
   "cell_type": "code",
   "execution_count": 144,
   "id": "72b19dba",
   "metadata": {},
   "outputs": [
    {
     "data": {
      "text/plain": [
       "['hello', 'python', 200, 10.5, 10]"
      ]
     },
     "execution_count": 144,
     "metadata": {},
     "output_type": "execute_result"
    }
   ],
   "source": [
    "l1"
   ]
  },
  {
   "cell_type": "code",
   "execution_count": 146,
   "id": "43da8e99",
   "metadata": {},
   "outputs": [],
   "source": [
    "l1=[10,20,30,40]"
   ]
  },
  {
   "cell_type": "code",
   "execution_count": 147,
   "id": "4418aa4d",
   "metadata": {},
   "outputs": [
    {
     "data": {
      "text/plain": [
       "[10, 20, 30, 40]"
      ]
     },
     "execution_count": 147,
     "metadata": {},
     "output_type": "execute_result"
    }
   ],
   "source": [
    "l1"
   ]
  },
  {
   "cell_type": "code",
   "execution_count": 148,
   "id": "f051977e",
   "metadata": {},
   "outputs": [],
   "source": [
    "l1.insert(1,50)"
   ]
  },
  {
   "cell_type": "code",
   "execution_count": 149,
   "id": "0d65a92a",
   "metadata": {},
   "outputs": [
    {
     "data": {
      "text/plain": [
       "[10, 50, 20, 30, 40]"
      ]
     },
     "execution_count": 149,
     "metadata": {},
     "output_type": "execute_result"
    }
   ],
   "source": [
    "l1"
   ]
  },
  {
   "cell_type": "code",
   "execution_count": 150,
   "id": "9af83e84",
   "metadata": {},
   "outputs": [],
   "source": [
    "l1.sort()"
   ]
  },
  {
   "cell_type": "code",
   "execution_count": 151,
   "id": "cd6866a3",
   "metadata": {},
   "outputs": [
    {
     "data": {
      "text/plain": [
       "[10, 20, 30, 40, 50]"
      ]
     },
     "execution_count": 151,
     "metadata": {},
     "output_type": "execute_result"
    }
   ],
   "source": [
    "l1"
   ]
  },
  {
   "cell_type": "code",
   "execution_count": 152,
   "id": "3335d699",
   "metadata": {},
   "outputs": [],
   "source": [
    "l1.sort(reverse=True)"
   ]
  },
  {
   "cell_type": "code",
   "execution_count": 153,
   "id": "9964710c",
   "metadata": {},
   "outputs": [
    {
     "data": {
      "text/plain": [
       "[50, 40, 30, 20, 10]"
      ]
     },
     "execution_count": 153,
     "metadata": {},
     "output_type": "execute_result"
    }
   ],
   "source": [
    "l1"
   ]
  },
  {
   "cell_type": "code",
   "execution_count": 154,
   "id": "7ca60bba",
   "metadata": {},
   "outputs": [
    {
     "data": {
      "text/plain": [
       "[50, 40, 30, 20, 10]"
      ]
     },
     "execution_count": 154,
     "metadata": {},
     "output_type": "execute_result"
    }
   ],
   "source": [
    "l1"
   ]
  },
  {
   "cell_type": "code",
   "execution_count": 155,
   "id": "5d4b4683",
   "metadata": {},
   "outputs": [],
   "source": [
    "l1.reverse()"
   ]
  },
  {
   "cell_type": "code",
   "execution_count": 156,
   "id": "02739c3a",
   "metadata": {},
   "outputs": [
    {
     "data": {
      "text/plain": [
       "[10, 20, 30, 40, 50]"
      ]
     },
     "execution_count": 156,
     "metadata": {},
     "output_type": "execute_result"
    }
   ],
   "source": [
    "l1"
   ]
  },
  {
   "cell_type": "code",
   "execution_count": 158,
   "id": "16d95d0e",
   "metadata": {},
   "outputs": [],
   "source": [
    "l2=[50,'hardik',40]"
   ]
  },
  {
   "cell_type": "code",
   "execution_count": 159,
   "id": "49f76f2f",
   "metadata": {},
   "outputs": [
    {
     "data": {
      "text/plain": [
       "[50, 'hardik', 40]"
      ]
     },
     "execution_count": 159,
     "metadata": {},
     "output_type": "execute_result"
    }
   ],
   "source": [
    "l2"
   ]
  },
  {
   "cell_type": "code",
   "execution_count": 160,
   "id": "83b3ab93",
   "metadata": {},
   "outputs": [],
   "source": [
    "l1.extend(l2)"
   ]
  },
  {
   "cell_type": "code",
   "execution_count": 161,
   "id": "1b477d28",
   "metadata": {},
   "outputs": [
    {
     "data": {
      "text/plain": [
       "[50, 'hardik', 40, 50, 'hardik', 40]"
      ]
     },
     "execution_count": 161,
     "metadata": {},
     "output_type": "execute_result"
    }
   ],
   "source": [
    "l1"
   ]
  },
  {
   "cell_type": "code",
   "execution_count": 162,
   "id": "0c9cbf57",
   "metadata": {},
   "outputs": [],
   "source": [
    "l2.clear()"
   ]
  },
  {
   "cell_type": "code",
   "execution_count": 163,
   "id": "227ca2f0",
   "metadata": {},
   "outputs": [
    {
     "data": {
      "text/plain": [
       "[]"
      ]
     },
     "execution_count": 163,
     "metadata": {},
     "output_type": "execute_result"
    }
   ],
   "source": [
    "l2"
   ]
  },
  {
   "cell_type": "code",
   "execution_count": 164,
   "id": "4877c60d",
   "metadata": {},
   "outputs": [
    {
     "data": {
      "text/plain": [
       "[50, 'hardik', 40, 50, 'hardik', 40]"
      ]
     },
     "execution_count": 164,
     "metadata": {},
     "output_type": "execute_result"
    }
   ],
   "source": [
    "l1"
   ]
  },
  {
   "cell_type": "code",
   "execution_count": 165,
   "id": "90db4085",
   "metadata": {},
   "outputs": [],
   "source": [
    "l3=l1.copy()"
   ]
  },
  {
   "cell_type": "code",
   "execution_count": 166,
   "id": "d714d0fc",
   "metadata": {},
   "outputs": [
    {
     "data": {
      "text/plain": [
       "[50, 'hardik', 40, 50, 'hardik', 40]"
      ]
     },
     "execution_count": 166,
     "metadata": {},
     "output_type": "execute_result"
    }
   ],
   "source": [
    "l3"
   ]
  },
  {
   "cell_type": "code",
   "execution_count": 167,
   "id": "d0c4af05",
   "metadata": {},
   "outputs": [
    {
     "data": {
      "text/plain": [
       "1"
      ]
     },
     "execution_count": 167,
     "metadata": {},
     "output_type": "execute_result"
    }
   ],
   "source": [
    "l3.index('hardik')"
   ]
  },
  {
   "cell_type": "code",
   "execution_count": 168,
   "id": "8031b739",
   "metadata": {},
   "outputs": [
    {
     "data": {
      "text/plain": [
       "2"
      ]
     },
     "execution_count": 168,
     "metadata": {},
     "output_type": "execute_result"
    }
   ],
   "source": [
    "l1.count(40)"
   ]
  },
  {
   "cell_type": "code",
   "execution_count": 169,
   "id": "a2b0ef7c",
   "metadata": {},
   "outputs": [],
   "source": [
    "# tuple   - tuple is a immutable datatype, (), tuple element defined in a order, duplicate value allowed."
   ]
  },
  {
   "cell_type": "code",
   "execution_count": 182,
   "id": "bd885f82",
   "metadata": {},
   "outputs": [],
   "source": [
    "t1=('hello',10,20,50,\"python\",10)"
   ]
  },
  {
   "cell_type": "code",
   "execution_count": 183,
   "id": "83f297bb",
   "metadata": {},
   "outputs": [
    {
     "data": {
      "text/plain": [
       "('hello', 10, 20, 50, 'python', 10)"
      ]
     },
     "execution_count": 183,
     "metadata": {},
     "output_type": "execute_result"
    }
   ],
   "source": [
    "t1"
   ]
  },
  {
   "cell_type": "code",
   "execution_count": 184,
   "id": "4c96a8be",
   "metadata": {},
   "outputs": [
    {
     "data": {
      "text/plain": [
       "tuple"
      ]
     },
     "execution_count": 184,
     "metadata": {},
     "output_type": "execute_result"
    }
   ],
   "source": [
    "type(t1)"
   ]
  },
  {
   "cell_type": "code",
   "execution_count": 185,
   "id": "e43faf7f",
   "metadata": {},
   "outputs": [
    {
     "data": {
      "text/plain": [
       "10"
      ]
     },
     "execution_count": 185,
     "metadata": {},
     "output_type": "execute_result"
    }
   ],
   "source": [
    "t1[1]"
   ]
  },
  {
   "cell_type": "code",
   "execution_count": 186,
   "id": "e7d65bca",
   "metadata": {},
   "outputs": [
    {
     "data": {
      "text/plain": [
       "'python'"
      ]
     },
     "execution_count": 186,
     "metadata": {},
     "output_type": "execute_result"
    }
   ],
   "source": [
    "t1[4]"
   ]
  },
  {
   "cell_type": "code",
   "execution_count": 187,
   "id": "32e86fad",
   "metadata": {},
   "outputs": [
    {
     "data": {
      "text/plain": [
       "('hello', 10, 20, 50)"
      ]
     },
     "execution_count": 187,
     "metadata": {},
     "output_type": "execute_result"
    }
   ],
   "source": [
    "t1[0:4]"
   ]
  },
  {
   "cell_type": "code",
   "execution_count": 188,
   "id": "50d4c7a2",
   "metadata": {},
   "outputs": [
    {
     "data": {
      "text/plain": [
       "1"
      ]
     },
     "execution_count": 188,
     "metadata": {},
     "output_type": "execute_result"
    }
   ],
   "source": [
    "t1.index(10)"
   ]
  },
  {
   "cell_type": "code",
   "execution_count": 189,
   "id": "55881307",
   "metadata": {},
   "outputs": [
    {
     "data": {
      "text/plain": [
       "3"
      ]
     },
     "execution_count": 189,
     "metadata": {},
     "output_type": "execute_result"
    }
   ],
   "source": [
    "t1.index(50)"
   ]
  },
  {
   "cell_type": "code",
   "execution_count": 190,
   "id": "faeee4ba",
   "metadata": {},
   "outputs": [
    {
     "data": {
      "text/plain": [
       "1"
      ]
     },
     "execution_count": 190,
     "metadata": {},
     "output_type": "execute_result"
    }
   ],
   "source": [
    "t1.count(20)"
   ]
  },
  {
   "cell_type": "code",
   "execution_count": 191,
   "id": "a1023b80",
   "metadata": {},
   "outputs": [
    {
     "data": {
      "text/plain": [
       "0"
      ]
     },
     "execution_count": 191,
     "metadata": {},
     "output_type": "execute_result"
    }
   ],
   "source": [
    "t1.count(60)"
   ]
  },
  {
   "cell_type": "code",
   "execution_count": 192,
   "id": "c21b035f",
   "metadata": {},
   "outputs": [
    {
     "data": {
      "text/plain": [
       "('hello', 10, 20, 50, 'python', 10)"
      ]
     },
     "execution_count": 192,
     "metadata": {},
     "output_type": "execute_result"
    }
   ],
   "source": [
    "t1"
   ]
  },
  {
   "cell_type": "code",
   "execution_count": 193,
   "id": "149ce1e5",
   "metadata": {},
   "outputs": [
    {
     "data": {
      "text/plain": [
       "2"
      ]
     },
     "execution_count": 193,
     "metadata": {},
     "output_type": "execute_result"
    }
   ],
   "source": [
    "t1.count(10)"
   ]
  },
  {
   "cell_type": "code",
   "execution_count": 194,
   "id": "8ea64322",
   "metadata": {},
   "outputs": [],
   "source": [
    "# dictionary"
   ]
  },
  {
   "cell_type": "code",
   "execution_count": 195,
   "id": "72e0ff3e",
   "metadata": {},
   "outputs": [],
   "source": [
    "# dictionary is a muttable data type   means changed, {}, duplicate value not allowed"
   ]
  },
  {
   "cell_type": "code",
   "execution_count": 196,
   "id": "b8ad0f81",
   "metadata": {},
   "outputs": [],
   "source": [
    "d1={\n",
    "    'name':'hardik',\n",
    "    'age':34\n",
    "}"
   ]
  },
  {
   "cell_type": "code",
   "execution_count": 197,
   "id": "7e134723",
   "metadata": {},
   "outputs": [
    {
     "data": {
      "text/plain": [
       "dict"
      ]
     },
     "execution_count": 197,
     "metadata": {},
     "output_type": "execute_result"
    }
   ],
   "source": [
    "type(d1)"
   ]
  },
  {
   "cell_type": "code",
   "execution_count": 198,
   "id": "53ed82c5",
   "metadata": {},
   "outputs": [],
   "source": [
    "d1['name']=\"sonu\""
   ]
  },
  {
   "cell_type": "code",
   "execution_count": 199,
   "id": "793d1a1b",
   "metadata": {},
   "outputs": [
    {
     "data": {
      "text/plain": [
       "{'name': 'sonu', 'age': 34}"
      ]
     },
     "execution_count": 199,
     "metadata": {},
     "output_type": "execute_result"
    }
   ],
   "source": [
    "d1"
   ]
  },
  {
   "cell_type": "code",
   "execution_count": 200,
   "id": "b58c2741",
   "metadata": {},
   "outputs": [],
   "source": [
    "d1['address']='vadnagar'"
   ]
  },
  {
   "cell_type": "code",
   "execution_count": 201,
   "id": "6e071346",
   "metadata": {},
   "outputs": [
    {
     "data": {
      "text/plain": [
       "{'name': 'sonu', 'age': 34, 'address': 'vadnagar'}"
      ]
     },
     "execution_count": 201,
     "metadata": {},
     "output_type": "execute_result"
    }
   ],
   "source": [
    "d1"
   ]
  },
  {
   "cell_type": "code",
   "execution_count": 202,
   "id": "cb216cc4",
   "metadata": {},
   "outputs": [
    {
     "data": {
      "text/plain": [
       "34"
      ]
     },
     "execution_count": 202,
     "metadata": {},
     "output_type": "execute_result"
    }
   ],
   "source": [
    "d1['age']"
   ]
  },
  {
   "cell_type": "code",
   "execution_count": 203,
   "id": "65ac861f",
   "metadata": {},
   "outputs": [
    {
     "data": {
      "text/plain": [
       "'sonu'"
      ]
     },
     "execution_count": 203,
     "metadata": {},
     "output_type": "execute_result"
    }
   ],
   "source": [
    "d1.get('name')"
   ]
  },
  {
   "cell_type": "code",
   "execution_count": 204,
   "id": "765bf244",
   "metadata": {},
   "outputs": [
    {
     "data": {
      "text/plain": [
       "dict_keys(['name', 'age', 'address'])"
      ]
     },
     "execution_count": 204,
     "metadata": {},
     "output_type": "execute_result"
    }
   ],
   "source": [
    "d1.keys()"
   ]
  },
  {
   "cell_type": "code",
   "execution_count": 205,
   "id": "18e93e1c",
   "metadata": {},
   "outputs": [
    {
     "data": {
      "text/plain": [
       "dict_values(['sonu', 34, 'vadnagar'])"
      ]
     },
     "execution_count": 205,
     "metadata": {},
     "output_type": "execute_result"
    }
   ],
   "source": [
    "d1.values()"
   ]
  },
  {
   "cell_type": "code",
   "execution_count": 206,
   "id": "082e0fa8",
   "metadata": {},
   "outputs": [
    {
     "data": {
      "text/plain": [
       "dict_items([('name', 'sonu'), ('age', 34), ('address', 'vadnagar')])"
      ]
     },
     "execution_count": 206,
     "metadata": {},
     "output_type": "execute_result"
    }
   ],
   "source": [
    "d1.items()"
   ]
  },
  {
   "cell_type": "code",
   "execution_count": 207,
   "id": "a31862ec",
   "metadata": {},
   "outputs": [
    {
     "data": {
      "text/plain": [
       "34"
      ]
     },
     "execution_count": 207,
     "metadata": {},
     "output_type": "execute_result"
    }
   ],
   "source": [
    "d1['age']"
   ]
  },
  {
   "cell_type": "code",
   "execution_count": 208,
   "id": "ebef3aee",
   "metadata": {},
   "outputs": [
    {
     "data": {
      "text/plain": [
       "'sonu'"
      ]
     },
     "execution_count": 208,
     "metadata": {},
     "output_type": "execute_result"
    }
   ],
   "source": [
    "d1.get('name')"
   ]
  },
  {
   "cell_type": "code",
   "execution_count": 209,
   "id": "d498db24",
   "metadata": {},
   "outputs": [],
   "source": [
    "d1['education']=\"BCA\""
   ]
  },
  {
   "cell_type": "code",
   "execution_count": 210,
   "id": "7371bd4d",
   "metadata": {},
   "outputs": [
    {
     "data": {
      "text/plain": [
       "{'name': 'sonu', 'age': 34, 'address': 'vadnagar', 'education': 'BCA'}"
      ]
     },
     "execution_count": 210,
     "metadata": {},
     "output_type": "execute_result"
    }
   ],
   "source": [
    "d1"
   ]
  },
  {
   "cell_type": "code",
   "execution_count": 211,
   "id": "ecf041ad",
   "metadata": {},
   "outputs": [
    {
     "data": {
      "text/plain": [
       "'python'"
      ]
     },
     "execution_count": 211,
     "metadata": {},
     "output_type": "execute_result"
    }
   ],
   "source": [
    "d1.setdefault(\"course\",\"python\")"
   ]
  },
  {
   "cell_type": "code",
   "execution_count": 212,
   "id": "fe642754",
   "metadata": {},
   "outputs": [
    {
     "data": {
      "text/plain": [
       "{'name': 'sonu',\n",
       " 'age': 34,\n",
       " 'address': 'vadnagar',\n",
       " 'education': 'BCA',\n",
       " 'course': 'python'}"
      ]
     },
     "execution_count": 212,
     "metadata": {},
     "output_type": "execute_result"
    }
   ],
   "source": [
    "d1"
   ]
  },
  {
   "cell_type": "code",
   "execution_count": 213,
   "id": "81379c6d",
   "metadata": {},
   "outputs": [],
   "source": [
    "d1['course']=\"PHP\""
   ]
  },
  {
   "cell_type": "code",
   "execution_count": 214,
   "id": "fe52aa94",
   "metadata": {},
   "outputs": [
    {
     "data": {
      "text/plain": [
       "{'name': 'sonu',\n",
       " 'age': 34,\n",
       " 'address': 'vadnagar',\n",
       " 'education': 'BCA',\n",
       " 'course': 'PHP'}"
      ]
     },
     "execution_count": 214,
     "metadata": {},
     "output_type": "execute_result"
    }
   ],
   "source": [
    "d1"
   ]
  },
  {
   "cell_type": "code",
   "execution_count": 217,
   "id": "63864449",
   "metadata": {},
   "outputs": [],
   "source": [
    "d1.update({'course':'python'})"
   ]
  },
  {
   "cell_type": "code",
   "execution_count": 218,
   "id": "34f29f1b",
   "metadata": {},
   "outputs": [
    {
     "data": {
      "text/plain": [
       "{'name': 'sonu',\n",
       " 'age': 34,\n",
       " 'address': 'vadnagar',\n",
       " 'education': 'BCA',\n",
       " 'course': 'python'}"
      ]
     },
     "execution_count": 218,
     "metadata": {},
     "output_type": "execute_result"
    }
   ],
   "source": [
    "d1"
   ]
  },
  {
   "cell_type": "code",
   "execution_count": 219,
   "id": "56a7eaed",
   "metadata": {},
   "outputs": [
    {
     "name": "stdout",
     "output_type": "stream",
     "text": [
      "['__class__', '__class_getitem__', '__contains__', '__delattr__', '__delitem__', '__dir__', '__doc__', '__eq__', '__format__', '__ge__', '__getattribute__', '__getitem__', '__gt__', '__hash__', '__init__', '__init_subclass__', '__ior__', '__iter__', '__le__', '__len__', '__lt__', '__ne__', '__new__', '__or__', '__reduce__', '__reduce_ex__', '__repr__', '__reversed__', '__ror__', '__setattr__', '__setitem__', '__sizeof__', '__str__', '__subclasshook__', 'clear', 'copy', 'fromkeys', 'get', 'items', 'keys', 'pop', 'popitem', 'setdefault', 'update', 'values']\n"
     ]
    }
   ],
   "source": [
    "print(dir(dict))"
   ]
  },
  {
   "cell_type": "code",
   "execution_count": 220,
   "id": "d584786c",
   "metadata": {},
   "outputs": [],
   "source": [
    "d2=d1.copy()"
   ]
  },
  {
   "cell_type": "code",
   "execution_count": 221,
   "id": "390a7449",
   "metadata": {},
   "outputs": [
    {
     "name": "stdout",
     "output_type": "stream",
     "text": [
      "{'name': 'sonu', 'age': 34, 'address': 'vadnagar', 'education': 'BCA', 'course': 'python'}\n"
     ]
    }
   ],
   "source": [
    "print(d2)"
   ]
  },
  {
   "cell_type": "code",
   "execution_count": 222,
   "id": "2b9918d6",
   "metadata": {},
   "outputs": [],
   "source": [
    "d2.clear()"
   ]
  },
  {
   "cell_type": "code",
   "execution_count": 223,
   "id": "ea456d83",
   "metadata": {},
   "outputs": [
    {
     "data": {
      "text/plain": [
       "{}"
      ]
     },
     "execution_count": 223,
     "metadata": {},
     "output_type": "execute_result"
    }
   ],
   "source": [
    "d2"
   ]
  },
  {
   "cell_type": "code",
   "execution_count": 224,
   "id": "fb022035",
   "metadata": {},
   "outputs": [
    {
     "data": {
      "text/plain": [
       "{'name': 'sonu',\n",
       " 'age': 34,\n",
       " 'address': 'vadnagar',\n",
       " 'education': 'BCA',\n",
       " 'course': 'python'}"
      ]
     },
     "execution_count": 224,
     "metadata": {},
     "output_type": "execute_result"
    }
   ],
   "source": [
    "d1"
   ]
  },
  {
   "cell_type": "code",
   "execution_count": 225,
   "id": "acb24e50",
   "metadata": {},
   "outputs": [
    {
     "name": "stdout",
     "output_type": "stream",
     "text": [
      "{'name': 'sonu', 'age': 34, 'address': 'vadnagar', 'education': 'BCA', 'course': 'python'}\n"
     ]
    }
   ],
   "source": [
    "print(d1)"
   ]
  },
  {
   "cell_type": "code",
   "execution_count": 226,
   "id": "98954e76",
   "metadata": {},
   "outputs": [
    {
     "data": {
      "text/plain": [
       "('course', 'python')"
      ]
     },
     "execution_count": 226,
     "metadata": {},
     "output_type": "execute_result"
    }
   ],
   "source": [
    "d1.popitem()"
   ]
  },
  {
   "cell_type": "code",
   "execution_count": 227,
   "id": "a4186474",
   "metadata": {},
   "outputs": [
    {
     "name": "stdout",
     "output_type": "stream",
     "text": [
      "{'name': 'sonu', 'age': 34, 'address': 'vadnagar', 'education': 'BCA'}\n"
     ]
    }
   ],
   "source": [
    "print(d1)"
   ]
  },
  {
   "cell_type": "code",
   "execution_count": 228,
   "id": "83229fbc",
   "metadata": {},
   "outputs": [
    {
     "data": {
      "text/plain": [
       "34"
      ]
     },
     "execution_count": 228,
     "metadata": {},
     "output_type": "execute_result"
    }
   ],
   "source": [
    "d1.pop('age')"
   ]
  },
  {
   "cell_type": "code",
   "execution_count": 229,
   "id": "c502ee3d",
   "metadata": {},
   "outputs": [
    {
     "data": {
      "text/plain": [
       "{'name': 'sonu', 'address': 'vadnagar', 'education': 'BCA'}"
      ]
     },
     "execution_count": 229,
     "metadata": {},
     "output_type": "execute_result"
    }
   ],
   "source": [
    "d1"
   ]
  },
  {
   "cell_type": "code",
   "execution_count": 230,
   "id": "ce827bad",
   "metadata": {},
   "outputs": [
    {
     "name": "stdout",
     "output_type": "stream",
     "text": [
      "3\n"
     ]
    }
   ],
   "source": [
    "print(len(d1))"
   ]
  },
  {
   "cell_type": "code",
   "execution_count": 232,
   "id": "8cc71ac0",
   "metadata": {},
   "outputs": [
    {
     "data": {
      "text/plain": [
       "'PHP'"
      ]
     },
     "execution_count": 232,
     "metadata": {},
     "output_type": "execute_result"
    }
   ],
   "source": [
    "d1.setdefault(\"course_name\",\"PHP\")"
   ]
  },
  {
   "cell_type": "code",
   "execution_count": 233,
   "id": "fb2ddf87",
   "metadata": {},
   "outputs": [
    {
     "data": {
      "text/plain": [
       "{'name': 'sonu',\n",
       " 'address': 'vadnagar',\n",
       " 'education': 'BCA',\n",
       " 'course_name': 'PHP'}"
      ]
     },
     "execution_count": 233,
     "metadata": {},
     "output_type": "execute_result"
    }
   ],
   "source": [
    "d1"
   ]
  },
  {
   "cell_type": "code",
   "execution_count": 234,
   "id": "6c4144bf",
   "metadata": {},
   "outputs": [
    {
     "name": "stdout",
     "output_type": "stream",
     "text": [
      "4\n"
     ]
    }
   ],
   "source": [
    "print(len(d1))"
   ]
  },
  {
   "cell_type": "code",
   "execution_count": 235,
   "id": "aacfd4cf",
   "metadata": {},
   "outputs": [
    {
     "data": {
      "text/plain": [
       "'PHP'"
      ]
     },
     "execution_count": 235,
     "metadata": {},
     "output_type": "execute_result"
    }
   ],
   "source": [
    "d1['course_name']"
   ]
  },
  {
   "cell_type": "code",
   "execution_count": 237,
   "id": "d8ec4e2c",
   "metadata": {},
   "outputs": [
    {
     "data": {
      "text/plain": [
       "'BCA'"
      ]
     },
     "execution_count": 237,
     "metadata": {},
     "output_type": "execute_result"
    }
   ],
   "source": [
    "d1.get('education')"
   ]
  },
  {
   "cell_type": "code",
   "execution_count": 238,
   "id": "070d56ca",
   "metadata": {},
   "outputs": [
    {
     "name": "stdout",
     "output_type": "stream",
     "text": [
      "{'name': 'sonu', 'address': 'vadnagar', 'education': 'BCA', 'course_name': 'PHP'}\n"
     ]
    }
   ],
   "source": [
    "print(d1)"
   ]
  },
  {
   "cell_type": "code",
   "execution_count": 239,
   "id": "700acb21",
   "metadata": {},
   "outputs": [],
   "source": [
    "d1['name']='hardik'"
   ]
  },
  {
   "cell_type": "code",
   "execution_count": 240,
   "id": "ec007e04",
   "metadata": {},
   "outputs": [
    {
     "data": {
      "text/plain": [
       "{'name': 'hardik',\n",
       " 'address': 'vadnagar',\n",
       " 'education': 'BCA',\n",
       " 'course_name': 'PHP'}"
      ]
     },
     "execution_count": 240,
     "metadata": {},
     "output_type": "execute_result"
    }
   ],
   "source": [
    "d1"
   ]
  },
  {
   "cell_type": "code",
   "execution_count": 241,
   "id": "7da06370",
   "metadata": {},
   "outputs": [
    {
     "name": "stdout",
     "output_type": "stream",
     "text": [
      "{'name': 'hardik', 'address': 'vadnagar', 'education': 'BCA', 'course_name': 'PHP'}\n"
     ]
    }
   ],
   "source": [
    "print(d1)"
   ]
  },
  {
   "cell_type": "code",
   "execution_count": 242,
   "id": "253a226d",
   "metadata": {},
   "outputs": [],
   "source": [
    "d1.update({'address':'sipor'})"
   ]
  },
  {
   "cell_type": "code",
   "execution_count": 243,
   "id": "7107db95",
   "metadata": {},
   "outputs": [
    {
     "name": "stdout",
     "output_type": "stream",
     "text": [
      "{'name': 'hardik', 'address': 'sipor', 'education': 'BCA', 'course_name': 'PHP'}\n"
     ]
    }
   ],
   "source": [
    "print(d1)"
   ]
  },
  {
   "cell_type": "code",
   "execution_count": 244,
   "id": "17f3d378",
   "metadata": {},
   "outputs": [],
   "source": [
    "d1['color']=\"red\""
   ]
  },
  {
   "cell_type": "code",
   "execution_count": 245,
   "id": "d51d3d39",
   "metadata": {},
   "outputs": [
    {
     "name": "stdout",
     "output_type": "stream",
     "text": [
      "{'name': 'hardik', 'address': 'sipor', 'education': 'BCA', 'course_name': 'PHP', 'color': 'red'}\n"
     ]
    }
   ],
   "source": [
    "print(d1)"
   ]
  },
  {
   "cell_type": "code",
   "execution_count": 247,
   "id": "6ff15f49",
   "metadata": {},
   "outputs": [],
   "source": [
    "fruits={\n",
    "    'name':'mango',\n",
    "    'price':30\n",
    "}"
   ]
  },
  {
   "cell_type": "code",
   "execution_count": 248,
   "id": "9bf74024",
   "metadata": {},
   "outputs": [
    {
     "data": {
      "text/plain": [
       "{'name': 'mango', 'price': 30}"
      ]
     },
     "execution_count": 248,
     "metadata": {},
     "output_type": "execute_result"
    }
   ],
   "source": [
    "fruits"
   ]
  },
  {
   "cell_type": "code",
   "execution_count": 249,
   "id": "4cd1de3a",
   "metadata": {},
   "outputs": [],
   "source": [
    "fruits.clear()"
   ]
  },
  {
   "cell_type": "code",
   "execution_count": 250,
   "id": "6173e796",
   "metadata": {},
   "outputs": [
    {
     "data": {
      "text/plain": [
       "{}"
      ]
     },
     "execution_count": 250,
     "metadata": {},
     "output_type": "execute_result"
    }
   ],
   "source": [
    "fruits"
   ]
  },
  {
   "cell_type": "code",
   "execution_count": 251,
   "id": "56af9964",
   "metadata": {},
   "outputs": [
    {
     "data": {
      "text/plain": [
       "{'name': 'hardik',\n",
       " 'address': 'sipor',\n",
       " 'education': 'BCA',\n",
       " 'course_name': 'PHP',\n",
       " 'color': 'red'}"
      ]
     },
     "execution_count": 251,
     "metadata": {},
     "output_type": "execute_result"
    }
   ],
   "source": [
    "d1"
   ]
  },
  {
   "cell_type": "code",
   "execution_count": 252,
   "id": "5a8965c1",
   "metadata": {},
   "outputs": [],
   "source": [
    "d2=d1.copy()"
   ]
  },
  {
   "cell_type": "code",
   "execution_count": 253,
   "id": "451a265c",
   "metadata": {},
   "outputs": [
    {
     "name": "stdout",
     "output_type": "stream",
     "text": [
      "{'name': 'hardik', 'address': 'sipor', 'education': 'BCA', 'course_name': 'PHP', 'color': 'red'}\n"
     ]
    }
   ],
   "source": [
    "print(d2)"
   ]
  },
  {
   "cell_type": "code",
   "execution_count": 254,
   "id": "2d6896db",
   "metadata": {},
   "outputs": [
    {
     "data": {
      "text/plain": [
       "'hardik'"
      ]
     },
     "execution_count": 254,
     "metadata": {},
     "output_type": "execute_result"
    }
   ],
   "source": [
    "d1.get('name')"
   ]
  },
  {
   "cell_type": "code",
   "execution_count": 255,
   "id": "262c113f",
   "metadata": {},
   "outputs": [
    {
     "data": {
      "text/plain": [
       "'sipor'"
      ]
     },
     "execution_count": 255,
     "metadata": {},
     "output_type": "execute_result"
    }
   ],
   "source": [
    "d1.pop('address')"
   ]
  },
  {
   "cell_type": "code",
   "execution_count": 256,
   "id": "d5ba2ed3",
   "metadata": {},
   "outputs": [
    {
     "data": {
      "text/plain": [
       "{'name': 'hardik', 'education': 'BCA', 'course_name': 'PHP', 'color': 'red'}"
      ]
     },
     "execution_count": 256,
     "metadata": {},
     "output_type": "execute_result"
    }
   ],
   "source": [
    "d1"
   ]
  },
  {
   "cell_type": "code",
   "execution_count": 258,
   "id": "63bd7b78",
   "metadata": {},
   "outputs": [
    {
     "data": {
      "text/plain": [
       "('color', 'red')"
      ]
     },
     "execution_count": 258,
     "metadata": {},
     "output_type": "execute_result"
    }
   ],
   "source": [
    "d1.popitem()"
   ]
  },
  {
   "cell_type": "code",
   "execution_count": 259,
   "id": "90d06ea1",
   "metadata": {},
   "outputs": [],
   "source": [
    "d1['color']=\"green\""
   ]
  },
  {
   "cell_type": "code",
   "execution_count": 260,
   "id": "cd785a85",
   "metadata": {},
   "outputs": [
    {
     "data": {
      "text/plain": [
       "{'name': 'hardik', 'education': 'BCA', 'course_name': 'PHP', 'color': 'green'}"
      ]
     },
     "execution_count": 260,
     "metadata": {},
     "output_type": "execute_result"
    }
   ],
   "source": [
    "d1"
   ]
  },
  {
   "cell_type": "code",
   "execution_count": 261,
   "id": "f94b0adc",
   "metadata": {},
   "outputs": [
    {
     "data": {
      "text/plain": [
       "'pass'"
      ]
     },
     "execution_count": 261,
     "metadata": {},
     "output_type": "execute_result"
    }
   ],
   "source": [
    "d1.setdefault(\"result\",\"pass\")"
   ]
  },
  {
   "cell_type": "code",
   "execution_count": 262,
   "id": "45c54267",
   "metadata": {},
   "outputs": [
    {
     "data": {
      "text/plain": [
       "{'name': 'hardik',\n",
       " 'education': 'BCA',\n",
       " 'course_name': 'PHP',\n",
       " 'color': 'green',\n",
       " 'result': 'pass'}"
      ]
     },
     "execution_count": 262,
     "metadata": {},
     "output_type": "execute_result"
    }
   ],
   "source": [
    "d1"
   ]
  },
  {
   "cell_type": "code",
   "execution_count": 263,
   "id": "e7798f54",
   "metadata": {},
   "outputs": [],
   "source": [
    "d1.update({'resulr':'fail'})"
   ]
  },
  {
   "cell_type": "code",
   "execution_count": 264,
   "id": "33f532da",
   "metadata": {},
   "outputs": [
    {
     "data": {
      "text/plain": [
       "{'name': 'hardik',\n",
       " 'education': 'BCA',\n",
       " 'course_name': 'PHP',\n",
       " 'color': 'green',\n",
       " 'result': 'pass',\n",
       " 'resulr': 'fail'}"
      ]
     },
     "execution_count": 264,
     "metadata": {},
     "output_type": "execute_result"
    }
   ],
   "source": [
    "d1"
   ]
  },
  {
   "cell_type": "code",
   "execution_count": 265,
   "id": "9c715133",
   "metadata": {},
   "outputs": [],
   "source": [
    "# set"
   ]
  },
  {
   "cell_type": "code",
   "execution_count": 266,
   "id": "eb1a7e98",
   "metadata": {},
   "outputs": [],
   "source": [
    "s1={'hello','java',10}"
   ]
  },
  {
   "cell_type": "code",
   "execution_count": 267,
   "id": "c05dab55",
   "metadata": {},
   "outputs": [
    {
     "data": {
      "text/plain": [
       "{10, 'hello', 'java'}"
      ]
     },
     "execution_count": 267,
     "metadata": {},
     "output_type": "execute_result"
    }
   ],
   "source": [
    "s1"
   ]
  },
  {
   "cell_type": "code",
   "execution_count": 268,
   "id": "ecc204b4",
   "metadata": {},
   "outputs": [
    {
     "data": {
      "text/plain": [
       "set"
      ]
     },
     "execution_count": 268,
     "metadata": {},
     "output_type": "execute_result"
    }
   ],
   "source": [
    "type(s1)"
   ]
  },
  {
   "cell_type": "code",
   "execution_count": 269,
   "id": "d5634d8b",
   "metadata": {},
   "outputs": [],
   "source": [
    "s1.add('php')"
   ]
  },
  {
   "cell_type": "code",
   "execution_count": 270,
   "id": "817b6ef6",
   "metadata": {},
   "outputs": [
    {
     "data": {
      "text/plain": [
       "{10, 'hello', 'java', 'php'}"
      ]
     },
     "execution_count": 270,
     "metadata": {},
     "output_type": "execute_result"
    }
   ],
   "source": [
    "s1"
   ]
  },
  {
   "cell_type": "code",
   "execution_count": 271,
   "id": "f4361a47",
   "metadata": {},
   "outputs": [],
   "source": [
    "s1.add(10)"
   ]
  },
  {
   "cell_type": "code",
   "execution_count": 272,
   "id": "95f71ec9",
   "metadata": {},
   "outputs": [
    {
     "data": {
      "text/plain": [
       "{10, 'hello', 'java', 'php'}"
      ]
     },
     "execution_count": 272,
     "metadata": {},
     "output_type": "execute_result"
    }
   ],
   "source": [
    "s1"
   ]
  },
  {
   "cell_type": "code",
   "execution_count": 273,
   "id": "b474f1c3",
   "metadata": {},
   "outputs": [
    {
     "name": "stdout",
     "output_type": "stream",
     "text": [
      "4\n"
     ]
    }
   ],
   "source": [
    "print(len(s1))"
   ]
  },
  {
   "cell_type": "code",
   "execution_count": 276,
   "id": "78ac8344",
   "metadata": {},
   "outputs": [
    {
     "name": "stdout",
     "output_type": "stream",
     "text": [
      "['__and__', '__class__', '__class_getitem__', '__contains__', '__delattr__', '__dir__', '__doc__', '__eq__', '__format__', '__ge__', '__getattribute__', '__gt__', '__hash__', '__iand__', '__init__', '__init_subclass__', '__ior__', '__isub__', '__iter__', '__ixor__', '__le__', '__len__', '__lt__', '__ne__', '__new__', '__or__', '__rand__', '__reduce__', '__reduce_ex__', '__repr__', '__ror__', '__rsub__', '__rxor__', '__setattr__', '__sizeof__', '__str__', '__sub__', '__subclasshook__', '__xor__', 'add', 'clear', 'copy', 'difference', 'difference_update', 'discard', 'intersection', 'intersection_update', 'isdisjoint', 'issubset', 'issuperset', 'pop', 'remove', 'symmetric_difference', 'symmetric_difference_update', 'union', 'update']\n"
     ]
    }
   ],
   "source": [
    "print(dir(set))"
   ]
  },
  {
   "cell_type": "code",
   "execution_count": 10,
   "id": "377d66b8",
   "metadata": {},
   "outputs": [],
   "source": [
    "s2={'hello',10,20,10.5}"
   ]
  },
  {
   "cell_type": "code",
   "execution_count": 11,
   "id": "dc00ea89",
   "metadata": {},
   "outputs": [
    {
     "name": "stdout",
     "output_type": "stream",
     "text": [
      "{'hello', 10, 10.5, 20}\n"
     ]
    }
   ],
   "source": [
    "print(s2)"
   ]
  },
  {
   "cell_type": "code",
   "execution_count": 13,
   "id": "dc8fdf58",
   "metadata": {},
   "outputs": [
    {
     "data": {
      "text/plain": [
       "'hello'"
      ]
     },
     "execution_count": 13,
     "metadata": {},
     "output_type": "execute_result"
    }
   ],
   "source": [
    "s2.pop()"
   ]
  },
  {
   "cell_type": "code",
   "execution_count": 14,
   "id": "9677520c",
   "metadata": {},
   "outputs": [
    {
     "data": {
      "text/plain": [
       "{10, 10.5, 20}"
      ]
     },
     "execution_count": 14,
     "metadata": {},
     "output_type": "execute_result"
    }
   ],
   "source": [
    "s2"
   ]
  },
  {
   "cell_type": "code",
   "execution_count": 277,
   "id": "26c5d242",
   "metadata": {},
   "outputs": [
    {
     "data": {
      "text/plain": [
       "10"
      ]
     },
     "execution_count": 277,
     "metadata": {},
     "output_type": "execute_result"
    }
   ],
   "source": [
    "s1.pop()"
   ]
  },
  {
   "cell_type": "code",
   "execution_count": 278,
   "id": "d7066740",
   "metadata": {},
   "outputs": [
    {
     "data": {
      "text/plain": [
       "{'hello', 'java', 'php'}"
      ]
     },
     "execution_count": 278,
     "metadata": {},
     "output_type": "execute_result"
    }
   ],
   "source": [
    "s1"
   ]
  },
  {
   "cell_type": "code",
   "execution_count": 279,
   "id": "af5b0b9a",
   "metadata": {},
   "outputs": [],
   "source": [
    "s1.add(50)"
   ]
  },
  {
   "cell_type": "code",
   "execution_count": 280,
   "id": "3e3ea1f2",
   "metadata": {},
   "outputs": [
    {
     "data": {
      "text/plain": [
       "{50, 'hello', 'java', 'php'}"
      ]
     },
     "execution_count": 280,
     "metadata": {},
     "output_type": "execute_result"
    }
   ],
   "source": [
    "s1"
   ]
  },
  {
   "cell_type": "code",
   "execution_count": 281,
   "id": "849c3270",
   "metadata": {},
   "outputs": [],
   "source": [
    "s1.add(20)"
   ]
  },
  {
   "cell_type": "code",
   "execution_count": 282,
   "id": "c8437f27",
   "metadata": {},
   "outputs": [
    {
     "data": {
      "text/plain": [
       "{20, 50, 'hello', 'java', 'php'}"
      ]
     },
     "execution_count": 282,
     "metadata": {},
     "output_type": "execute_result"
    }
   ],
   "source": [
    "s1"
   ]
  },
  {
   "cell_type": "code",
   "execution_count": 283,
   "id": "ccd18b01",
   "metadata": {},
   "outputs": [
    {
     "data": {
      "text/plain": [
       "'hello'"
      ]
     },
     "execution_count": 283,
     "metadata": {},
     "output_type": "execute_result"
    }
   ],
   "source": [
    "s1.pop()"
   ]
  },
  {
   "cell_type": "code",
   "execution_count": 284,
   "id": "23bfe74e",
   "metadata": {},
   "outputs": [
    {
     "data": {
      "text/plain": [
       "{20, 50, 'java', 'php'}"
      ]
     },
     "execution_count": 284,
     "metadata": {},
     "output_type": "execute_result"
    }
   ],
   "source": [
    "s1"
   ]
  },
  {
   "cell_type": "code",
   "execution_count": 286,
   "id": "f8cf6b08",
   "metadata": {},
   "outputs": [
    {
     "data": {
      "text/plain": [
       "50"
      ]
     },
     "execution_count": 286,
     "metadata": {},
     "output_type": "execute_result"
    }
   ],
   "source": [
    "s1.pop()"
   ]
  },
  {
   "cell_type": "code",
   "execution_count": 287,
   "id": "93e10224",
   "metadata": {},
   "outputs": [],
   "source": [
    "s1.remove('php')"
   ]
  },
  {
   "cell_type": "code",
   "execution_count": 288,
   "id": "4642b658",
   "metadata": {},
   "outputs": [
    {
     "data": {
      "text/plain": [
       "{20, 'java'}"
      ]
     },
     "execution_count": 288,
     "metadata": {},
     "output_type": "execute_result"
    }
   ],
   "source": [
    "s1"
   ]
  },
  {
   "cell_type": "code",
   "execution_count": 289,
   "id": "180111f8",
   "metadata": {},
   "outputs": [],
   "source": [
    "s1.add(80)"
   ]
  },
  {
   "cell_type": "code",
   "execution_count": 290,
   "id": "c2bb162b",
   "metadata": {},
   "outputs": [
    {
     "data": {
      "text/plain": [
       "{20, 80, 'java'}"
      ]
     },
     "execution_count": 290,
     "metadata": {},
     "output_type": "execute_result"
    }
   ],
   "source": [
    "s1"
   ]
  },
  {
   "cell_type": "code",
   "execution_count": 291,
   "id": "4bebae3c",
   "metadata": {},
   "outputs": [],
   "source": [
    "s1.discard(20)"
   ]
  },
  {
   "cell_type": "code",
   "execution_count": 292,
   "id": "68392ff7",
   "metadata": {},
   "outputs": [
    {
     "data": {
      "text/plain": [
       "{80, 'java'}"
      ]
     },
     "execution_count": 292,
     "metadata": {},
     "output_type": "execute_result"
    }
   ],
   "source": [
    "s1"
   ]
  },
  {
   "cell_type": "code",
   "execution_count": 293,
   "id": "1e80af39",
   "metadata": {},
   "outputs": [],
   "source": [
    "s1.clear()"
   ]
  },
  {
   "cell_type": "code",
   "execution_count": 294,
   "id": "59753290",
   "metadata": {},
   "outputs": [
    {
     "data": {
      "text/plain": [
       "set()"
      ]
     },
     "execution_count": 294,
     "metadata": {},
     "output_type": "execute_result"
    }
   ],
   "source": [
    "s1"
   ]
  },
  {
   "cell_type": "code",
   "execution_count": 295,
   "id": "f682f755",
   "metadata": {},
   "outputs": [],
   "source": [
    "s1={30,40,60,'hello'}"
   ]
  },
  {
   "cell_type": "code",
   "execution_count": 296,
   "id": "49a0510b",
   "metadata": {},
   "outputs": [
    {
     "data": {
      "text/plain": [
       "{30, 40, 60, 'hello'}"
      ]
     },
     "execution_count": 296,
     "metadata": {},
     "output_type": "execute_result"
    }
   ],
   "source": [
    "s1"
   ]
  },
  {
   "cell_type": "code",
   "execution_count": 298,
   "id": "1c7a8830",
   "metadata": {},
   "outputs": [
    {
     "data": {
      "text/plain": [
       "4"
      ]
     },
     "execution_count": 298,
     "metadata": {},
     "output_type": "execute_result"
    }
   ],
   "source": [
    "len(s1)"
   ]
  },
  {
   "cell_type": "code",
   "execution_count": 299,
   "id": "f8af57ab",
   "metadata": {},
   "outputs": [],
   "source": [
    "s1.add(100)"
   ]
  },
  {
   "cell_type": "code",
   "execution_count": 300,
   "id": "acdb5c11",
   "metadata": {},
   "outputs": [
    {
     "data": {
      "text/plain": [
       "{100, 30, 40, 60, 'hello'}"
      ]
     },
     "execution_count": 300,
     "metadata": {},
     "output_type": "execute_result"
    }
   ],
   "source": [
    "s1"
   ]
  },
  {
   "cell_type": "code",
   "execution_count": 301,
   "id": "2ae1580c",
   "metadata": {},
   "outputs": [],
   "source": [
    "s1.remove(30)"
   ]
  },
  {
   "cell_type": "code",
   "execution_count": 302,
   "id": "2b5cf087",
   "metadata": {},
   "outputs": [
    {
     "data": {
      "text/plain": [
       "{100, 40, 60, 'hello'}"
      ]
     },
     "execution_count": 302,
     "metadata": {},
     "output_type": "execute_result"
    }
   ],
   "source": [
    "s1"
   ]
  },
  {
   "cell_type": "code",
   "execution_count": 304,
   "id": "d6d3ae60",
   "metadata": {},
   "outputs": [],
   "source": [
    "s1.discard(60)"
   ]
  },
  {
   "cell_type": "code",
   "execution_count": 305,
   "id": "5d19c65c",
   "metadata": {},
   "outputs": [
    {
     "data": {
      "text/plain": [
       "{100, 40, 'hello'}"
      ]
     },
     "execution_count": 305,
     "metadata": {},
     "output_type": "execute_result"
    }
   ],
   "source": [
    "s1"
   ]
  },
  {
   "cell_type": "code",
   "execution_count": 308,
   "id": "7f4cc796",
   "metadata": {},
   "outputs": [],
   "source": [
    "s1={10,30,60,70}      #in intersection return common record\n",
    "s2={30,50,60,10,80}"
   ]
  },
  {
   "cell_type": "code",
   "execution_count": 309,
   "id": "77301517",
   "metadata": {},
   "outputs": [
    {
     "data": {
      "text/plain": [
       "{10, 30, 60}"
      ]
     },
     "execution_count": 309,
     "metadata": {},
     "output_type": "execute_result"
    }
   ],
   "source": [
    "s1.intersection(s2)"
   ]
  },
  {
   "cell_type": "code",
   "execution_count": 310,
   "id": "3deabf13",
   "metadata": {},
   "outputs": [
    {
     "data": {
      "text/plain": [
       "{10, 30, 50, 60, 70, 80}"
      ]
     },
     "execution_count": 310,
     "metadata": {},
     "output_type": "execute_result"
    }
   ],
   "source": [
    "s1.union(s2)"
   ]
  },
  {
   "cell_type": "code",
   "execution_count": 311,
   "id": "41770bad",
   "metadata": {},
   "outputs": [
    {
     "data": {
      "text/plain": [
       "{70}"
      ]
     },
     "execution_count": 311,
     "metadata": {},
     "output_type": "execute_result"
    }
   ],
   "source": [
    "s1.difference(s2)"
   ]
  },
  {
   "cell_type": "code",
   "execution_count": 312,
   "id": "34c9312d",
   "metadata": {},
   "outputs": [
    {
     "data": {
      "text/plain": [
       "{50, 80}"
      ]
     },
     "execution_count": 312,
     "metadata": {},
     "output_type": "execute_result"
    }
   ],
   "source": [
    "s2.difference(s1)"
   ]
  },
  {
   "cell_type": "code",
   "execution_count": 315,
   "id": "02f7167e",
   "metadata": {},
   "outputs": [],
   "source": [
    "s1={'hello','python',10,20,10}"
   ]
  },
  {
   "cell_type": "code",
   "execution_count": 316,
   "id": "a23ac40f",
   "metadata": {},
   "outputs": [
    {
     "data": {
      "text/plain": [
       "{10, 20, 'hello', 'python'}"
      ]
     },
     "execution_count": 316,
     "metadata": {},
     "output_type": "execute_result"
    }
   ],
   "source": [
    "s1"
   ]
  },
  {
   "cell_type": "code",
   "execution_count": 317,
   "id": "938cace7",
   "metadata": {},
   "outputs": [
    {
     "data": {
      "text/plain": [
       "set"
      ]
     },
     "execution_count": 317,
     "metadata": {},
     "output_type": "execute_result"
    }
   ],
   "source": [
    "type(s1)"
   ]
  },
  {
   "cell_type": "code",
   "execution_count": 318,
   "id": "edcc1263",
   "metadata": {},
   "outputs": [],
   "source": [
    "s1.add(70)"
   ]
  },
  {
   "cell_type": "code",
   "execution_count": 319,
   "id": "7bb66a4a",
   "metadata": {},
   "outputs": [
    {
     "data": {
      "text/plain": [
       "{10, 20, 70, 'hello', 'python'}"
      ]
     },
     "execution_count": 319,
     "metadata": {},
     "output_type": "execute_result"
    }
   ],
   "source": [
    "s1"
   ]
  },
  {
   "cell_type": "code",
   "execution_count": 320,
   "id": "9fb7e682",
   "metadata": {},
   "outputs": [],
   "source": [
    "s1.remove(20)"
   ]
  },
  {
   "cell_type": "code",
   "execution_count": 321,
   "id": "bf5984a5",
   "metadata": {},
   "outputs": [
    {
     "data": {
      "text/plain": [
       "{10, 70, 'hello', 'python'}"
      ]
     },
     "execution_count": 321,
     "metadata": {},
     "output_type": "execute_result"
    }
   ],
   "source": [
    "s1"
   ]
  },
  {
   "cell_type": "code",
   "execution_count": 322,
   "id": "bd91f4fc",
   "metadata": {},
   "outputs": [],
   "source": [
    "s1.discard(10)"
   ]
  },
  {
   "cell_type": "code",
   "execution_count": 323,
   "id": "20af5a83",
   "metadata": {},
   "outputs": [
    {
     "data": {
      "text/plain": [
       "{70, 'hello', 'python'}"
      ]
     },
     "execution_count": 323,
     "metadata": {},
     "output_type": "execute_result"
    }
   ],
   "source": [
    "s1"
   ]
  },
  {
   "cell_type": "code",
   "execution_count": 324,
   "id": "31f8f4c8",
   "metadata": {},
   "outputs": [],
   "source": [
    "s2=s1.copy()"
   ]
  },
  {
   "cell_type": "code",
   "execution_count": 325,
   "id": "6a893403",
   "metadata": {},
   "outputs": [
    {
     "data": {
      "text/plain": [
       "{70, 'hello', 'python'}"
      ]
     },
     "execution_count": 325,
     "metadata": {},
     "output_type": "execute_result"
    }
   ],
   "source": [
    "s2"
   ]
  },
  {
   "cell_type": "code",
   "execution_count": 326,
   "id": "2d8bab7d",
   "metadata": {},
   "outputs": [
    {
     "data": {
      "text/plain": [
       "{70, 'hello', 'python'}"
      ]
     },
     "execution_count": 326,
     "metadata": {},
     "output_type": "execute_result"
    }
   ],
   "source": [
    "s1"
   ]
  },
  {
   "cell_type": "code",
   "execution_count": 327,
   "id": "b7254116",
   "metadata": {},
   "outputs": [
    {
     "data": {
      "text/plain": [
       "3"
      ]
     },
     "execution_count": 327,
     "metadata": {},
     "output_type": "execute_result"
    }
   ],
   "source": [
    "len(s1)"
   ]
  },
  {
   "cell_type": "code",
   "execution_count": 328,
   "id": "06a5a43c",
   "metadata": {},
   "outputs": [],
   "source": [
    "s2.clear()"
   ]
  },
  {
   "cell_type": "code",
   "execution_count": 329,
   "id": "fdd78296",
   "metadata": {},
   "outputs": [
    {
     "data": {
      "text/plain": [
       "set()"
      ]
     },
     "execution_count": 329,
     "metadata": {},
     "output_type": "execute_result"
    }
   ],
   "source": [
    "s2"
   ]
  },
  {
   "cell_type": "code",
   "execution_count": 330,
   "id": "e62c5fcf",
   "metadata": {},
   "outputs": [],
   "source": [
    "s1={10,20,40,50}\n",
    "s2={30,10,50}"
   ]
  },
  {
   "cell_type": "code",
   "execution_count": 331,
   "id": "c796a2b4",
   "metadata": {},
   "outputs": [
    {
     "data": {
      "text/plain": [
       "{10, 50}"
      ]
     },
     "execution_count": 331,
     "metadata": {},
     "output_type": "execute_result"
    }
   ],
   "source": [
    "s1.intersection(s2)"
   ]
  },
  {
   "cell_type": "code",
   "execution_count": 332,
   "id": "0d65b98b",
   "metadata": {},
   "outputs": [
    {
     "data": {
      "text/plain": [
       "{10, 20, 30, 40, 50}"
      ]
     },
     "execution_count": 332,
     "metadata": {},
     "output_type": "execute_result"
    }
   ],
   "source": [
    "s1.union(s2)"
   ]
  },
  {
   "cell_type": "code",
   "execution_count": 335,
   "id": "965e527b",
   "metadata": {},
   "outputs": [
    {
     "data": {
      "text/plain": [
       "{20, 40}"
      ]
     },
     "execution_count": 335,
     "metadata": {},
     "output_type": "execute_result"
    }
   ],
   "source": [
    "s1.difference(s2)"
   ]
  },
  {
   "cell_type": "code",
   "execution_count": 336,
   "id": "e86d9ac9",
   "metadata": {},
   "outputs": [
    {
     "data": {
      "text/plain": [
       "{30}"
      ]
     },
     "execution_count": 336,
     "metadata": {},
     "output_type": "execute_result"
    }
   ],
   "source": [
    "s2.difference(s1)"
   ]
  },
  {
   "cell_type": "code",
   "execution_count": 337,
   "id": "0863290a",
   "metadata": {},
   "outputs": [],
   "source": [
    "# operator"
   ]
  },
  {
   "cell_type": "code",
   "execution_count": 338,
   "id": "838a37e0",
   "metadata": {},
   "outputs": [],
   "source": [
    "# an operator are used to operate a value"
   ]
  },
  {
   "cell_type": "code",
   "execution_count": 339,
   "id": "88fabf8b",
   "metadata": {},
   "outputs": [],
   "source": [
    "# operator are used to perform operation on variable and values"
   ]
  },
  {
   "cell_type": "code",
   "execution_count": 340,
   "id": "443e2a8f",
   "metadata": {},
   "outputs": [],
   "source": [
    "# 1) arithmetic operator (+,-,*,/,%,//,**)\n"
   ]
  },
  {
   "cell_type": "code",
   "execution_count": 341,
   "id": "9ad5acb9",
   "metadata": {},
   "outputs": [],
   "source": [
    "a=10"
   ]
  },
  {
   "cell_type": "code",
   "execution_count": 342,
   "id": "da35f0cf",
   "metadata": {},
   "outputs": [],
   "source": [
    "b=30"
   ]
  },
  {
   "cell_type": "code",
   "execution_count": 343,
   "id": "2834b263",
   "metadata": {},
   "outputs": [],
   "source": [
    "sum=a+b"
   ]
  },
  {
   "cell_type": "code",
   "execution_count": 344,
   "id": "d53f6381",
   "metadata": {},
   "outputs": [
    {
     "data": {
      "text/plain": [
       "40"
      ]
     },
     "execution_count": 344,
     "metadata": {},
     "output_type": "execute_result"
    }
   ],
   "source": [
    "sum"
   ]
  },
  {
   "cell_type": "code",
   "execution_count": 345,
   "id": "73ee6017",
   "metadata": {},
   "outputs": [],
   "source": [
    "a=\"hello\""
   ]
  },
  {
   "cell_type": "code",
   "execution_count": 346,
   "id": "5b6d5256",
   "metadata": {},
   "outputs": [],
   "source": [
    "b=\"python\""
   ]
  },
  {
   "cell_type": "code",
   "execution_count": 349,
   "id": "dda60344",
   "metadata": {},
   "outputs": [],
   "source": [
    "sum=a+ \" \"+b"
   ]
  },
  {
   "cell_type": "code",
   "execution_count": 350,
   "id": "9fc73b26",
   "metadata": {},
   "outputs": [
    {
     "data": {
      "text/plain": [
       "'hello python'"
      ]
     },
     "execution_count": 350,
     "metadata": {},
     "output_type": "execute_result"
    }
   ],
   "source": [
    "sum"
   ]
  },
  {
   "cell_type": "code",
   "execution_count": 351,
   "id": "dd0e6d78",
   "metadata": {},
   "outputs": [],
   "source": [
    "# subtraction"
   ]
  },
  {
   "cell_type": "code",
   "execution_count": 352,
   "id": "cbd465b3",
   "metadata": {},
   "outputs": [],
   "source": [
    "a=10\n"
   ]
  },
  {
   "cell_type": "code",
   "execution_count": 353,
   "id": "4d29f0a7",
   "metadata": {},
   "outputs": [],
   "source": [
    "b=5"
   ]
  },
  {
   "cell_type": "code",
   "execution_count": 354,
   "id": "33408e9b",
   "metadata": {},
   "outputs": [],
   "source": [
    "sub=a-b"
   ]
  },
  {
   "cell_type": "code",
   "execution_count": 355,
   "id": "68215f43",
   "metadata": {},
   "outputs": [
    {
     "data": {
      "text/plain": [
       "5"
      ]
     },
     "execution_count": 355,
     "metadata": {},
     "output_type": "execute_result"
    }
   ],
   "source": [
    "sub"
   ]
  },
  {
   "cell_type": "code",
   "execution_count": 356,
   "id": "9bef6537",
   "metadata": {},
   "outputs": [],
   "source": [
    "mul=10*5"
   ]
  },
  {
   "cell_type": "code",
   "execution_count": 357,
   "id": "0d304fb4",
   "metadata": {},
   "outputs": [
    {
     "data": {
      "text/plain": [
       "50"
      ]
     },
     "execution_count": 357,
     "metadata": {},
     "output_type": "execute_result"
    }
   ],
   "source": [
    "mul"
   ]
  },
  {
   "cell_type": "code",
   "execution_count": 358,
   "id": "25ad7824",
   "metadata": {},
   "outputs": [],
   "source": [
    "div=10/4"
   ]
  },
  {
   "cell_type": "code",
   "execution_count": 359,
   "id": "43793c0b",
   "metadata": {},
   "outputs": [
    {
     "data": {
      "text/plain": [
       "2.5"
      ]
     },
     "execution_count": 359,
     "metadata": {},
     "output_type": "execute_result"
    }
   ],
   "source": [
    "div"
   ]
  },
  {
   "cell_type": "code",
   "execution_count": 360,
   "id": "1d120ebd",
   "metadata": {},
   "outputs": [
    {
     "data": {
      "text/plain": [
       "0"
      ]
     },
     "execution_count": 360,
     "metadata": {},
     "output_type": "execute_result"
    }
   ],
   "source": [
    "10%5"
   ]
  },
  {
   "cell_type": "code",
   "execution_count": 361,
   "id": "a804253d",
   "metadata": {},
   "outputs": [
    {
     "data": {
      "text/plain": [
       "1"
      ]
     },
     "execution_count": 361,
     "metadata": {},
     "output_type": "execute_result"
    }
   ],
   "source": [
    "11%2"
   ]
  },
  {
   "cell_type": "code",
   "execution_count": 362,
   "id": "d1717a51",
   "metadata": {},
   "outputs": [
    {
     "data": {
      "text/plain": [
       "2.0"
      ]
     },
     "execution_count": 362,
     "metadata": {},
     "output_type": "execute_result"
    }
   ],
   "source": [
    "10/5"
   ]
  },
  {
   "cell_type": "code",
   "execution_count": 363,
   "id": "3a4d74d2",
   "metadata": {},
   "outputs": [
    {
     "data": {
      "text/plain": [
       "5"
      ]
     },
     "execution_count": 363,
     "metadata": {},
     "output_type": "execute_result"
    }
   ],
   "source": [
    "10//2"
   ]
  },
  {
   "cell_type": "code",
   "execution_count": 364,
   "id": "baf51d2a",
   "metadata": {},
   "outputs": [
    {
     "data": {
      "text/plain": [
       "2"
      ]
     },
     "execution_count": 364,
     "metadata": {},
     "output_type": "execute_result"
    }
   ],
   "source": [
    "10//5"
   ]
  },
  {
   "cell_type": "code",
   "execution_count": 365,
   "id": "214bf013",
   "metadata": {},
   "outputs": [
    {
     "data": {
      "text/plain": [
       "8"
      ]
     },
     "execution_count": 365,
     "metadata": {},
     "output_type": "execute_result"
    }
   ],
   "source": [
    "2**3"
   ]
  },
  {
   "cell_type": "code",
   "execution_count": 17,
   "id": "ae0c0f8c",
   "metadata": {},
   "outputs": [],
   "source": [
    "a='*'"
   ]
  },
  {
   "cell_type": "code",
   "execution_count": 18,
   "id": "d602ecba",
   "metadata": {},
   "outputs": [
    {
     "data": {
      "text/plain": [
       "'**********'"
      ]
     },
     "execution_count": 18,
     "metadata": {},
     "output_type": "execute_result"
    }
   ],
   "source": [
    "a*10"
   ]
  },
  {
   "cell_type": "code",
   "execution_count": null,
   "id": "c33735a6",
   "metadata": {},
   "outputs": [],
   "source": []
  },
  {
   "cell_type": "code",
   "execution_count": 366,
   "id": "7dd1bbde",
   "metadata": {},
   "outputs": [],
   "source": [
    "# assignment operator"
   ]
  },
  {
   "cell_type": "code",
   "execution_count": 367,
   "id": "a6308d80",
   "metadata": {},
   "outputs": [],
   "source": [
    "a=10"
   ]
  },
  {
   "cell_type": "code",
   "execution_count": 368,
   "id": "4b1094ca",
   "metadata": {},
   "outputs": [
    {
     "name": "stdout",
     "output_type": "stream",
     "text": [
      "10\n"
     ]
    }
   ],
   "source": [
    "print(a)"
   ]
  },
  {
   "cell_type": "code",
   "execution_count": 369,
   "id": "2a81d9e0",
   "metadata": {},
   "outputs": [],
   "source": [
    "a+=10"
   ]
  },
  {
   "cell_type": "code",
   "execution_count": 370,
   "id": "56dcdbdc",
   "metadata": {},
   "outputs": [
    {
     "data": {
      "text/plain": [
       "20"
      ]
     },
     "execution_count": 370,
     "metadata": {},
     "output_type": "execute_result"
    }
   ],
   "source": [
    "a"
   ]
  },
  {
   "cell_type": "code",
   "execution_count": 371,
   "id": "98276aaa",
   "metadata": {},
   "outputs": [],
   "source": [
    "a-=10"
   ]
  },
  {
   "cell_type": "code",
   "execution_count": 372,
   "id": "2913a01a",
   "metadata": {},
   "outputs": [
    {
     "data": {
      "text/plain": [
       "10"
      ]
     },
     "execution_count": 372,
     "metadata": {},
     "output_type": "execute_result"
    }
   ],
   "source": [
    "a"
   ]
  },
  {
   "cell_type": "code",
   "execution_count": 373,
   "id": "0ffa487d",
   "metadata": {},
   "outputs": [],
   "source": [
    "a*=10"
   ]
  },
  {
   "cell_type": "code",
   "execution_count": 374,
   "id": "96d61dbf",
   "metadata": {},
   "outputs": [
    {
     "data": {
      "text/plain": [
       "100"
      ]
     },
     "execution_count": 374,
     "metadata": {},
     "output_type": "execute_result"
    }
   ],
   "source": [
    "a"
   ]
  },
  {
   "cell_type": "code",
   "execution_count": 376,
   "id": "226a4ef0",
   "metadata": {},
   "outputs": [],
   "source": [
    "a=5"
   ]
  },
  {
   "cell_type": "code",
   "execution_count": 378,
   "id": "dc2cc000",
   "metadata": {},
   "outputs": [
    {
     "data": {
      "text/plain": [
       "50"
      ]
     },
     "execution_count": 378,
     "metadata": {},
     "output_type": "execute_result"
    }
   ],
   "source": [
    "a*10"
   ]
  },
  {
   "cell_type": "code",
   "execution_count": 379,
   "id": "4cbd3b22",
   "metadata": {},
   "outputs": [],
   "source": [
    "a='*'"
   ]
  },
  {
   "cell_type": "code",
   "execution_count": 380,
   "id": "70123f68",
   "metadata": {},
   "outputs": [
    {
     "data": {
      "text/plain": [
       "'**********'"
      ]
     },
     "execution_count": 380,
     "metadata": {},
     "output_type": "execute_result"
    }
   ],
   "source": [
    "a*10"
   ]
  },
  {
   "cell_type": "code",
   "execution_count": 381,
   "id": "5fda30e4",
   "metadata": {},
   "outputs": [],
   "source": [
    "# comparison oerator"
   ]
  },
  {
   "cell_type": "code",
   "execution_count": 384,
   "id": "ab55114f",
   "metadata": {},
   "outputs": [
    {
     "data": {
      "text/plain": [
       "True"
      ]
     },
     "execution_count": 384,
     "metadata": {},
     "output_type": "execute_result"
    }
   ],
   "source": [
    "10>9"
   ]
  },
  {
   "cell_type": "code",
   "execution_count": 385,
   "id": "7474ba18",
   "metadata": {},
   "outputs": [
    {
     "data": {
      "text/plain": [
       "False"
      ]
     },
     "execution_count": 385,
     "metadata": {},
     "output_type": "execute_result"
    }
   ],
   "source": [
    "10<8"
   ]
  },
  {
   "cell_type": "code",
   "execution_count": 386,
   "id": "aa5170e0",
   "metadata": {},
   "outputs": [
    {
     "data": {
      "text/plain": [
       "True"
      ]
     },
     "execution_count": 386,
     "metadata": {},
     "output_type": "execute_result"
    }
   ],
   "source": [
    "10==10"
   ]
  },
  {
   "cell_type": "code",
   "execution_count": 387,
   "id": "1ed2909e",
   "metadata": {},
   "outputs": [
    {
     "data": {
      "text/plain": [
       "False"
      ]
     },
     "execution_count": 387,
     "metadata": {},
     "output_type": "execute_result"
    }
   ],
   "source": [
    "10==0"
   ]
  },
  {
   "cell_type": "code",
   "execution_count": 388,
   "id": "20323305",
   "metadata": {},
   "outputs": [
    {
     "data": {
      "text/plain": [
       "True"
      ]
     },
     "execution_count": 388,
     "metadata": {},
     "output_type": "execute_result"
    }
   ],
   "source": [
    "10>=5"
   ]
  },
  {
   "cell_type": "code",
   "execution_count": 389,
   "id": "6e6fe489",
   "metadata": {},
   "outputs": [
    {
     "data": {
      "text/plain": [
       "False"
      ]
     },
     "execution_count": 389,
     "metadata": {},
     "output_type": "execute_result"
    }
   ],
   "source": [
    "10<=4"
   ]
  },
  {
   "cell_type": "code",
   "execution_count": 390,
   "id": "a8dd5719",
   "metadata": {},
   "outputs": [
    {
     "data": {
      "text/plain": [
       "False"
      ]
     },
     "execution_count": 390,
     "metadata": {},
     "output_type": "execute_result"
    }
   ],
   "source": [
    "10!=10"
   ]
  },
  {
   "cell_type": "code",
   "execution_count": 391,
   "id": "9fb6c73e",
   "metadata": {},
   "outputs": [
    {
     "data": {
      "text/plain": [
       "True"
      ]
     },
     "execution_count": 391,
     "metadata": {},
     "output_type": "execute_result"
    }
   ],
   "source": [
    "10!=8"
   ]
  },
  {
   "cell_type": "code",
   "execution_count": 392,
   "id": "91d9b880",
   "metadata": {},
   "outputs": [],
   "source": [
    "# logical operator"
   ]
  },
  {
   "cell_type": "code",
   "execution_count": 393,
   "id": "9f260b68",
   "metadata": {},
   "outputs": [],
   "source": [
    "# and"
   ]
  },
  {
   "cell_type": "code",
   "execution_count": 395,
   "id": "e2e7f528",
   "metadata": {},
   "outputs": [
    {
     "data": {
      "text/plain": [
       "True"
      ]
     },
     "execution_count": 395,
     "metadata": {},
     "output_type": "execute_result"
    }
   ],
   "source": [
    "10>3 and 5<9 and 10==10"
   ]
  },
  {
   "cell_type": "code",
   "execution_count": 396,
   "id": "18e6c891",
   "metadata": {},
   "outputs": [
    {
     "data": {
      "text/plain": [
       "('hello', 10, 1, 0)"
      ]
     },
     "execution_count": 396,
     "metadata": {},
     "output_type": "execute_result"
    }
   ],
   "source": [
    "'hello',10,1,0"
   ]
  },
  {
   "cell_type": "code",
   "execution_count": 398,
   "id": "c9fe33c6",
   "metadata": {},
   "outputs": [
    {
     "data": {
      "text/plain": [
       "'hello'"
      ]
     },
     "execution_count": 398,
     "metadata": {},
     "output_type": "execute_result"
    }
   ],
   "source": [
    "10 and 1 and 'hello'"
   ]
  },
  {
   "cell_type": "code",
   "execution_count": 399,
   "id": "fef98c84",
   "metadata": {},
   "outputs": [
    {
     "data": {
      "text/plain": [
       "0"
      ]
     },
     "execution_count": 399,
     "metadata": {},
     "output_type": "execute_result"
    }
   ],
   "source": [
    "0 and 'hi'"
   ]
  },
  {
   "cell_type": "code",
   "execution_count": 400,
   "id": "e96a0ecd",
   "metadata": {},
   "outputs": [
    {
     "data": {
      "text/plain": [
       "False"
      ]
     },
     "execution_count": 400,
     "metadata": {},
     "output_type": "execute_result"
    }
   ],
   "source": [
    "20 and 30 and False and \" \""
   ]
  },
  {
   "cell_type": "code",
   "execution_count": 401,
   "id": "e04fb16a",
   "metadata": {},
   "outputs": [
    {
     "data": {
      "text/plain": [
       "''"
      ]
     },
     "execution_count": 401,
     "metadata": {},
     "output_type": "execute_result"
    }
   ],
   "source": [
    "10 and \"\" and 20"
   ]
  },
  {
   "cell_type": "code",
   "execution_count": 19,
   "id": "432d3df9",
   "metadata": {},
   "outputs": [
    {
     "data": {
      "text/plain": [
       "[]"
      ]
     },
     "execution_count": 19,
     "metadata": {},
     "output_type": "execute_result"
    }
   ],
   "source": [
    "10 and [] and False"
   ]
  },
  {
   "cell_type": "code",
   "execution_count": null,
   "id": "48fd372b",
   "metadata": {},
   "outputs": [],
   "source": []
  }
 ],
 "metadata": {
  "kernelspec": {
   "display_name": "Python 3 (ipykernel)",
   "language": "python",
   "name": "python3"
  },
  "language_info": {
   "codemirror_mode": {
    "name": "ipython",
    "version": 3
   },
   "file_extension": ".py",
   "mimetype": "text/x-python",
   "name": "python",
   "nbconvert_exporter": "python",
   "pygments_lexer": "ipython3",
   "version": "3.10.2"
  }
 },
 "nbformat": 4,
 "nbformat_minor": 5
}

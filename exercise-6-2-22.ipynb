{
 "cells": [
  {
   "cell_type": "code",
   "execution_count": 1,
   "id": "6a68f0fe",
   "metadata": {},
   "outputs": [],
   "source": [
    "# # Exercise -1\n",
    "# Exercise: Python Variables\n",
    "# Create a variable called break and assign it a value 5. See what happens and find out the reason behind the behavior that you see.\n",
    "\n",
    "# Create two variables. One to store your birth year and another one to store current year. Now calculate your age using these two variables\n",
    "\n",
    "# Store your first, middle and last name in three different variables and then print your full name using these variables\n",
    "\n",
    "# Answer which of these are invalid variable names: _nation 1record record1 record_one record-one record^one continue"
   ]
  },
  {
   "cell_type": "code",
   "execution_count": 3,
   "id": "7a4830cf",
   "metadata": {},
   "outputs": [
    {
     "ename": "SyntaxError",
     "evalue": "invalid syntax (1564100847.py, line 1)",
     "output_type": "error",
     "traceback": [
      "\u001b[1;36m  Input \u001b[1;32mIn [3]\u001b[1;36m\u001b[0m\n\u001b[1;33m    break=5\u001b[0m\n\u001b[1;37m         ^\u001b[0m\n\u001b[1;31mSyntaxError\u001b[0m\u001b[1;31m:\u001b[0m invalid syntax\n"
     ]
    }
   ],
   "source": [
    "break=5\n",
    "print(break)"
   ]
  },
  {
   "cell_type": "code",
   "execution_count": 4,
   "id": "38f793fc",
   "metadata": {},
   "outputs": [
    {
     "name": "stdout",
     "output_type": "stream",
     "text": [
      "33\n"
     ]
    }
   ],
   "source": [
    "birth_year=1989\n",
    "current_year=2022\n",
    "age=current_year-birth_year\n",
    "print(age)"
   ]
  },
  {
   "cell_type": "code",
   "execution_count": 7,
   "id": "473f0bbb",
   "metadata": {},
   "outputs": [
    {
     "name": "stdout",
     "output_type": "stream",
     "text": [
      "my full name is =: hardik vrajlalbhai patel\n"
     ]
    }
   ],
   "source": [
    "first_name='hardik'\n",
    "middle_name='vrajlalbhai'\n",
    "last_name='patel'\n",
    "print(\"my full name is =:\",first_name+\" \"+middle_name+\" \"+last_name)"
   ]
  },
  {
   "cell_type": "code",
   "execution_count": 8,
   "id": "382cefd1",
   "metadata": {},
   "outputs": [
    {
     "ename": "SyntaxError",
     "evalue": "invalid decimal literal (2875162713.py, line 1)",
     "output_type": "error",
     "traceback": [
      "\u001b[1;36m  Input \u001b[1;32mIn [8]\u001b[1;36m\u001b[0m\n\u001b[1;33m    1record,record-one,record^one,continue\u001b[0m\n\u001b[1;37m    ^\u001b[0m\n\u001b[1;31mSyntaxError\u001b[0m\u001b[1;31m:\u001b[0m invalid decimal literal\n"
     ]
    }
   ],
   "source": [
    "1record,record-one,record^one,continue"
   ]
  },
  {
   "cell_type": "code",
   "execution_count": 9,
   "id": "a2c7e30e",
   "metadata": {},
   "outputs": [],
   "source": [
    "# # Exercise  -2\n",
    "# Exercise: Numbers in python\n",
    "# You have a football field that is 92 meter long and 48.8 meter wide. Find out total area using python and print it.\n",
    "# You bought 9 packets of potato chips from a store. Each packet costs 1.49 dollar and you gave shopkeeper 20 dollar. Find out using python, how many dollars is the shopkeeper going to give you back?\n",
    "# You want to replace tiles in your bathroom which is exactly square and 5.5 feet is its length. If tiles cost 500 rs per square feet, how much will be the total cost to replace all tiles. Calculate and print the cost using python (Hint: Use power operator ** to find area of a square)\n",
    "# Print binary representation of number 17"
   ]
  },
  {
   "cell_type": "code",
   "execution_count": 11,
   "id": "a52efd40",
   "metadata": {},
   "outputs": [
    {
     "name": "stdout",
     "output_type": "stream",
     "text": [
      "Total area of football ground = 4489.599999999999\n"
     ]
    }
   ],
   "source": [
    "total=92*48.8 \n",
    "print(\"Total area of football ground =\",total)"
   ]
  },
  {
   "cell_type": "code",
   "execution_count": 14,
   "id": "9925c552",
   "metadata": {},
   "outputs": [
    {
     "name": "stdout",
     "output_type": "stream",
     "text": [
      "13.41\n"
     ]
    }
   ],
   "source": [
    "total_dollar=9*1.49\n",
    "print(total_dollar)"
   ]
  },
  {
   "cell_type": "code",
   "execution_count": 15,
   "id": "e891a38b",
   "metadata": {},
   "outputs": [
    {
     "data": {
      "text/plain": [
       "6.59"
      ]
     },
     "execution_count": 15,
     "metadata": {},
     "output_type": "execute_result"
    }
   ],
   "source": [
    "20-total_dollar"
   ]
  },
  {
   "cell_type": "code",
   "execution_count": 16,
   "id": "f1baf2ef",
   "metadata": {},
   "outputs": [
    {
     "data": {
      "text/plain": [
       "'0b10001'"
      ]
     },
     "execution_count": 16,
     "metadata": {},
     "output_type": "execute_result"
    }
   ],
   "source": [
    "bin(17)"
   ]
  },
  {
   "cell_type": "code",
   "execution_count": 18,
   "id": "8dcae5a3",
   "metadata": {},
   "outputs": [
    {
     "data": {
      "text/plain": [
       "30.25"
      ]
     },
     "execution_count": 18,
     "metadata": {},
     "output_type": "execute_result"
    }
   ],
   "source": [
    "bathroom_length=5.5   #5.5 feet\n",
    "total_tiles=5.5**2\n",
    "total_tiles"
   ]
  },
  {
   "cell_type": "code",
   "execution_count": 19,
   "id": "692f1ab4",
   "metadata": {},
   "outputs": [
    {
     "data": {
      "text/plain": [
       "15125.0"
      ]
     },
     "execution_count": 19,
     "metadata": {},
     "output_type": "execute_result"
    }
   ],
   "source": [
    "500*total_tiles   #total cost of bathroom"
   ]
  },
  {
   "cell_type": "code",
   "execution_count": 20,
   "id": "0c0216e1",
   "metadata": {},
   "outputs": [],
   "source": [
    "# Exercise: String in Python\n",
    "# Create 3 variables to store street, city and country, now create address variable to store entire address. Use two ways of creating this variable, one using + operator and the other using f-string. Now Print the address in such a way that the street, city and country prints in a separate line\n",
    "# Create a variable to store the string \"Earth revolves around the sun\"\n",
    "# Print \"revolves\" using slice operator\n",
    "# Print \"sun\" using negative index\n",
    "# Create two variables to store how many fruits and vegetables you eat in a day. Now Print \"I eat x veggies and y fruits daily\" where x and y presents vegetables and fruits that you eat everyday. Use python f string for this.\n",
    "# I have a string variable called s='maine 200 banana khaye'. This of course is a wrong statement, the correct statement is 'maine 10 samosa khaye'. Replace incorrect words in original strong with new ones and print the new string. Also try to do this in one line."
   ]
  },
  {
   "cell_type": "code",
   "execution_count": 66,
   "id": "4fd55218",
   "metadata": {},
   "outputs": [
    {
     "name": "stdout",
     "output_type": "stream",
     "text": [
      "hello\n",
      "python\n",
      "welcome\n"
     ]
    }
   ],
   "source": [
    "a=\"hello\"\n",
    "b=\"python\"\n",
    "c=\"welcome\"\n",
    "result=a+\"\\n\"+b+\"\\n\"+c\n",
    "print(result)"
   ]
  },
  {
   "cell_type": "code",
   "execution_count": 70,
   "id": "adc6c284",
   "metadata": {},
   "outputs": [
    {
     "name": "stdout",
     "output_type": "stream",
     "text": [
      "hello\n",
      "python\n",
      "welcome\n"
     ]
    }
   ],
   "source": [
    "result=f\"{a}\\n{b}\\n{c}\"\n",
    "print(result)"
   ]
  },
  {
   "cell_type": "code",
   "execution_count": 32,
   "id": "9dbb558f",
   "metadata": {},
   "outputs": [
    {
     "name": "stdout",
     "output_type": "stream",
     "text": [
      "gujarat\n",
      "vadnagar\n",
      "india\n"
     ]
    }
   ],
   "source": [
    "street=\"gujarat\"\n",
    "city=\"vadnagar\"\n",
    "country=\"india\"\n",
    "address=street+ '\\n' +city+ '\\n' +country\n",
    "print(address)"
   ]
  },
  {
   "cell_type": "code",
   "execution_count": 30,
   "id": "c869d908",
   "metadata": {},
   "outputs": [
    {
     "data": {
      "text/plain": [
       "'gujarat\\nvadnagar\\nindia'"
      ]
     },
     "execution_count": 30,
     "metadata": {},
     "output_type": "execute_result"
    }
   ],
   "source": [
    "address\n"
   ]
  },
  {
   "cell_type": "code",
   "execution_count": 41,
   "id": "003e85e4",
   "metadata": {},
   "outputs": [
    {
     "name": "stdout",
     "output_type": "stream",
     "text": [
      "hello\n",
      "hardik\n"
     ]
    }
   ],
   "source": [
    "a='hello'\n",
    "b='hardik'\n",
    "print(a+'\\n'+b)"
   ]
  },
  {
   "cell_type": "code",
   "execution_count": 53,
   "id": "72efe206",
   "metadata": {},
   "outputs": [],
   "source": [
    "a=(f\"{street}\\n{city}\\n{country}\")"
   ]
  },
  {
   "cell_type": "code",
   "execution_count": 54,
   "id": "28a42b4d",
   "metadata": {},
   "outputs": [
    {
     "name": "stdout",
     "output_type": "stream",
     "text": [
      "gujarat\n",
      "vadnagar\n",
      "india\n"
     ]
    }
   ],
   "source": [
    "print(a)"
   ]
  },
  {
   "cell_type": "code",
   "execution_count": 56,
   "id": "b157eb15",
   "metadata": {},
   "outputs": [
    {
     "name": "stdout",
     "output_type": "stream",
     "text": [
      "hello\n",
      "hardik\n"
     ]
    }
   ],
   "source": [
    "a=\"hello\"\n",
    "b=\"hardik\"\n",
    "full=a+\"\\n\"+b\n",
    "print(full)"
   ]
  },
  {
   "cell_type": "code",
   "execution_count": 59,
   "id": "a8f0d4b4",
   "metadata": {},
   "outputs": [],
   "source": [
    "a=\"hello\"\n",
    "b=\"python\"\n",
    "result=f\"{a}\\n{b}\""
   ]
  },
  {
   "cell_type": "code",
   "execution_count": 61,
   "id": "9b83f8e4",
   "metadata": {},
   "outputs": [
    {
     "name": "stdout",
     "output_type": "stream",
     "text": [
      "hello\n",
      "python\n"
     ]
    }
   ],
   "source": [
    "print(result)"
   ]
  },
  {
   "cell_type": "code",
   "execution_count": 74,
   "id": "0fd6b71f",
   "metadata": {},
   "outputs": [
    {
     "name": "stdout",
     "output_type": "stream",
     "text": [
      "revolves \n"
     ]
    }
   ],
   "source": [
    "a=\"Earth revolves around the sun\"\n",
    "result=a[6:15]\n",
    "print(result)"
   ]
  },
  {
   "cell_type": "code",
   "execution_count": 75,
   "id": "988061cc",
   "metadata": {},
   "outputs": [
    {
     "data": {
      "text/plain": [
       "'sun'"
      ]
     },
     "execution_count": 75,
     "metadata": {},
     "output_type": "execute_result"
    }
   ],
   "source": [
    "a[-3:]"
   ]
  },
  {
   "cell_type": "code",
   "execution_count": 78,
   "id": "6452a188",
   "metadata": {},
   "outputs": [],
   "source": [
    "fruits=10\n",
    "vegitable=20\n",
    "x=f\"I eat {vegitable} veggies and {fruits} fruits daily\""
   ]
  },
  {
   "cell_type": "code",
   "execution_count": 79,
   "id": "472e06ec",
   "metadata": {},
   "outputs": [
    {
     "name": "stdout",
     "output_type": "stream",
     "text": [
      "I eat 20 veggies and 10 fruits daily\n"
     ]
    }
   ],
   "source": [
    "print(x)"
   ]
  },
  {
   "cell_type": "code",
   "execution_count": 81,
   "id": "9495764b",
   "metadata": {},
   "outputs": [],
   "source": [
    "# I have a string variable called s='maine 200 banana khaye'. This of course is a wrong statement, the correct statement is 'maine 10 samosa khaye'. Replace incorrect words in original strong with new ones and print the new string. Also try to do this in one line."
   ]
  },
  {
   "cell_type": "code",
   "execution_count": 93,
   "id": "046e7225",
   "metadata": {},
   "outputs": [
    {
     "name": "stdout",
     "output_type": "stream",
     "text": [
      "maine 10 samosa khaye\n"
     ]
    }
   ],
   "source": [
    "s='maine 200 banana khaye'\n",
    "# a=s.replace('200','10').replace('banana','samosa')\n",
    "s=s.replace('200','10')\n",
    "s=s.replace('banana','samosa')\n",
    "print(s)"
   ]
  },
  {
   "cell_type": "code",
   "execution_count": 95,
   "id": "325665c7",
   "metadata": {},
   "outputs": [
    {
     "name": "stdout",
     "output_type": "stream",
     "text": [
      "hello\n",
      "python\n",
      "php\n"
     ]
    }
   ],
   "source": [
    "a='hello'\n",
    "b='python'\n",
    "c='php'\n",
    "result=f\"{a}\\n{b}\\n{c}\"\n",
    "print(result)"
   ]
  },
  {
   "cell_type": "code",
   "execution_count": 102,
   "id": "a1cb0151",
   "metadata": {},
   "outputs": [
    {
     "name": "stdout",
     "output_type": "stream",
     "text": [
      "maine apple 10 khaye\n"
     ]
    }
   ],
   "source": [
    "a=\"maine banana 200 khaye\"\n",
    "s=a.replace('banana','apple').replace('200','10')\n",
    "print(s)"
   ]
  },
  {
   "cell_type": "code",
   "execution_count": 111,
   "id": "0960c427",
   "metadata": {},
   "outputs": [
    {
     "data": {
      "text/plain": [
       "1.25"
      ]
     },
     "execution_count": 111,
     "metadata": {},
     "output_type": "execute_result"
    }
   ],
   "source": [
    "round(1.24566888,2)\n"
   ]
  },
  {
   "cell_type": "code",
   "execution_count": 109,
   "id": "5a2f5141",
   "metadata": {},
   "outputs": [],
   "source": [
    "round?\n"
   ]
  },
  {
   "cell_type": "code",
   "execution_count": 114,
   "id": "206a98ba",
   "metadata": {},
   "outputs": [],
   "source": [
    "# exercise 4\n",
    "# Exercise: Python Lists\n",
    "# Let us say your expense for every month are listed below,\n",
    "# January - 2200\n",
    "# February - 2350\n",
    "# March - 2600\n",
    "# April - 2130\n",
    "# May - 2190\n",
    "# Create a list to store these monthly expenses and using that find out,\n",
    "\n",
    "# 1. In Feb, how many dollars you spent extra compare to January?\n",
    "# 2. Find out your total expense in first quarter (first three months) of the year.\n",
    "# 3. Find out if you spent exactly 2000 dollars in any month\n",
    "# 4. June month just finished and your expense is 1980 dollar. Add this item to our monthly expense list\n",
    "# 5. You returned an item that you bought in a month of April and\n",
    "# got a refund of 200$. Make a correction to your monthly expense list\n",
    "# based on this\n",
    "# You have a list of your favourite marvel super heros.\n",
    "# heros=['spider man','thor','hulk','iron man','captain america']\n",
    "# Using this find out,\n",
    "\n",
    "# 1. Length of the list\n",
    "# 2. Add 'black panther' at the end of this list\n",
    "# 3. You realize that you need to add 'black panther' after 'hulk',\n",
    "#    so remove it from the list first and then add it after 'hulk'\n",
    "# 4. Now you don't like thor and hulk because they get angry easily :)\n",
    "#    So you want to remove thor and hulk from list and replace them with doctor strange (because he is cool).\n",
    "#    Do that with one line of code.\n",
    "# 5. Sort the heros list in alphabetical order (Hint. Use dir() functions to list down all functions available in list)\n"
   ]
  },
  {
   "cell_type": "code",
   "execution_count": 115,
   "id": "86f8bc24",
   "metadata": {},
   "outputs": [],
   "source": [
    "# Exercise: Python Lists\n",
    "# Let us say your expense for every month are listed below,\n",
    "# January - 2200\n",
    "# February - 2350\n",
    "# March - 2600\n",
    "# April - 2130\n",
    "# May - 2190\n",
    "# Create a list to store these monthly expenses and using that find out,\n",
    "\n",
    "# 1. In Feb, how many dollars you spent extra compare to January?\n",
    "# 2. Find out your total expense in first quarter (first three months) of the year.\n",
    "# 3. Find out if you spent exactly 2000 dollars in any month\n",
    "# 4. June month just finished and your expense is 1980 dollar. Add this item to our monthly expense list\n",
    "# 5. You returned an item that you bought in a month of April and"
   ]
  },
  {
   "cell_type": "code",
   "execution_count": 117,
   "id": "a7700a83",
   "metadata": {},
   "outputs": [],
   "source": [
    "expense=[2200,2350,2600,2130,2190]"
   ]
  },
  {
   "cell_type": "code",
   "execution_count": 119,
   "id": "664de196",
   "metadata": {},
   "outputs": [
    {
     "name": "stdout",
     "output_type": "stream",
     "text": [
      "150\n"
     ]
    }
   ],
   "source": [
    "que1=expense[1]-expense[0]\n",
    "print(que1)"
   ]
  },
  {
   "cell_type": "code",
   "execution_count": 120,
   "id": "24c0ea49",
   "metadata": {},
   "outputs": [
    {
     "name": "stdout",
     "output_type": "stream",
     "text": [
      "7150\n"
     ]
    }
   ],
   "source": [
    "que2=expense[0]+expense[1]+expense[2]\n",
    "print(que2)"
   ]
  },
  {
   "cell_type": "code",
   "execution_count": 121,
   "id": "c916a5b2",
   "metadata": {},
   "outputs": [
    {
     "name": "stdout",
     "output_type": "stream",
     "text": [
      "False\n"
     ]
    }
   ],
   "source": [
    "que3=2000 in expense\n",
    "print(que3)"
   ]
  },
  {
   "cell_type": "code",
   "execution_count": 122,
   "id": "b168ba15",
   "metadata": {},
   "outputs": [],
   "source": [
    "expense.append(1980)"
   ]
  },
  {
   "cell_type": "code",
   "execution_count": 123,
   "id": "6d95793d",
   "metadata": {},
   "outputs": [
    {
     "data": {
      "text/plain": [
       "[2200, 2350, 2600, 2130, 2190, 1980]"
      ]
     },
     "execution_count": 123,
     "metadata": {},
     "output_type": "execute_result"
    }
   ],
   "source": [
    "expense"
   ]
  },
  {
   "cell_type": "code",
   "execution_count": 124,
   "id": "1ec50570",
   "metadata": {},
   "outputs": [
    {
     "name": "stdout",
     "output_type": "stream",
     "text": [
      "1930\n"
     ]
    }
   ],
   "source": [
    "que4=expense[3]-200\n",
    "print(que4)"
   ]
  },
  {
   "cell_type": "code",
   "execution_count": 127,
   "id": "cbedd041",
   "metadata": {},
   "outputs": [],
   "source": [
    "expense[3]=que4"
   ]
  },
  {
   "cell_type": "code",
   "execution_count": 128,
   "id": "e604cf29",
   "metadata": {},
   "outputs": [
    {
     "data": {
      "text/plain": [
       "[2200, 2350, 2600, 1930, 2190, 1980]"
      ]
     },
     "execution_count": 128,
     "metadata": {},
     "output_type": "execute_result"
    }
   ],
   "source": [
    "expense"
   ]
  },
  {
   "cell_type": "code",
   "execution_count": 129,
   "id": "bd9800b4",
   "metadata": {},
   "outputs": [],
   "source": [
    "# You have a list of your favourite marvel super heros.\n",
    "# heros=['spider man','thor','hulk','iron man','captain america']\n",
    "# Using this find out,\n",
    "\n",
    "# 1. Length of the list\n",
    "# 2. Add 'black panther' at the end of this list\n",
    "# 3. You realize that you need to add 'black panther' after 'hulk',\n",
    "#    so remove it from the list first and then add it after 'hulk'\n",
    "# 4. Now you don't like thor and hulk because they get angry easily :)\n",
    "#    So you want to remove thor and hulk from list and replace them with doctor strange (because he is cool).\n",
    "#    Do that with one line of code.\n",
    "# 5. Sort the heros list in alphabetical order (Hint. Use dir() functions to list down all functions available in list)"
   ]
  },
  {
   "cell_type": "code",
   "execution_count": 130,
   "id": "8021c931",
   "metadata": {},
   "outputs": [],
   "source": [
    "heros=['spider man','thor','hulk','iron man','captain america']"
   ]
  },
  {
   "cell_type": "code",
   "execution_count": 131,
   "id": "5b6e52ab",
   "metadata": {},
   "outputs": [
    {
     "data": {
      "text/plain": [
       "5"
      ]
     },
     "execution_count": 131,
     "metadata": {},
     "output_type": "execute_result"
    }
   ],
   "source": [
    "len(heros)"
   ]
  },
  {
   "cell_type": "code",
   "execution_count": 132,
   "id": "0b3fdd83",
   "metadata": {},
   "outputs": [],
   "source": [
    "heros.append('black panther')"
   ]
  },
  {
   "cell_type": "code",
   "execution_count": 133,
   "id": "b0145c6a",
   "metadata": {},
   "outputs": [
    {
     "data": {
      "text/plain": [
       "['spider man', 'thor', 'hulk', 'iron man', 'captain america', 'black panther']"
      ]
     },
     "execution_count": 133,
     "metadata": {},
     "output_type": "execute_result"
    }
   ],
   "source": [
    "heros"
   ]
  },
  {
   "cell_type": "code",
   "execution_count": 136,
   "id": "959fb8db",
   "metadata": {},
   "outputs": [],
   "source": [
    "heros.insert(3,'blank')"
   ]
  },
  {
   "cell_type": "code",
   "execution_count": 138,
   "id": "15c7c547",
   "metadata": {},
   "outputs": [
    {
     "name": "stdout",
     "output_type": "stream",
     "text": [
      "['spider man', 'thor', 'blank', 'blank', 'hulk', 'iron man', 'captain america', 'black panther']\n"
     ]
    }
   ],
   "source": [
    "print(heros)"
   ]
  },
  {
   "cell_type": "code",
   "execution_count": 140,
   "id": "164fe629",
   "metadata": {},
   "outputs": [
    {
     "data": {
      "text/plain": [
       "'blank'"
      ]
     },
     "execution_count": 140,
     "metadata": {},
     "output_type": "execute_result"
    }
   ],
   "source": [
    "heros.pop(2)"
   ]
  },
  {
   "cell_type": "code",
   "execution_count": 142,
   "id": "6be927de",
   "metadata": {},
   "outputs": [
    {
     "data": {
      "text/plain": [
       "'blank'"
      ]
     },
     "execution_count": 142,
     "metadata": {},
     "output_type": "execute_result"
    }
   ],
   "source": [
    "heros.pop(2)"
   ]
  },
  {
   "cell_type": "code",
   "execution_count": 143,
   "id": "d00d51bd",
   "metadata": {},
   "outputs": [
    {
     "name": "stdout",
     "output_type": "stream",
     "text": [
      "['spider man', 'thor', 'hulk', 'iron man', 'captain america', 'black panther']\n"
     ]
    }
   ],
   "source": [
    "print(heros)"
   ]
  },
  {
   "cell_type": "code",
   "execution_count": 144,
   "id": "64e2797b",
   "metadata": {},
   "outputs": [
    {
     "data": {
      "text/plain": [
       "'black panther'"
      ]
     },
     "execution_count": 144,
     "metadata": {},
     "output_type": "execute_result"
    }
   ],
   "source": [
    "heros.pop()"
   ]
  },
  {
   "cell_type": "code",
   "execution_count": 145,
   "id": "2d81864f",
   "metadata": {},
   "outputs": [
    {
     "name": "stdout",
     "output_type": "stream",
     "text": [
      "['spider man', 'thor', 'hulk', 'iron man', 'captain america']\n"
     ]
    }
   ],
   "source": [
    "print(heros)"
   ]
  },
  {
   "cell_type": "code",
   "execution_count": 146,
   "id": "02427d72",
   "metadata": {},
   "outputs": [],
   "source": [
    "heros.insert(3,'blank')"
   ]
  },
  {
   "cell_type": "code",
   "execution_count": 147,
   "id": "4c302a29",
   "metadata": {},
   "outputs": [
    {
     "data": {
      "text/plain": [
       "['spider man', 'thor', 'hulk', 'blank', 'iron man', 'captain america']"
      ]
     },
     "execution_count": 147,
     "metadata": {},
     "output_type": "execute_result"
    }
   ],
   "source": [
    "heros\n"
   ]
  },
  {
   "cell_type": "code",
   "execution_count": 149,
   "id": "0084a372",
   "metadata": {},
   "outputs": [],
   "source": [
    "heros[2]='doctor strange'"
   ]
  },
  {
   "cell_type": "code",
   "execution_count": 150,
   "id": "3306d18f",
   "metadata": {},
   "outputs": [
    {
     "data": {
      "text/plain": [
       "['spider man',\n",
       " 'thor',\n",
       " 'doctor strange',\n",
       " 'blank',\n",
       " 'iron man',\n",
       " 'captain america']"
      ]
     },
     "execution_count": 150,
     "metadata": {},
     "output_type": "execute_result"
    }
   ],
   "source": [
    "heros\n"
   ]
  },
  {
   "cell_type": "code",
   "execution_count": 151,
   "id": "1f37c6d9",
   "metadata": {},
   "outputs": [
    {
     "name": "stdout",
     "output_type": "stream",
     "text": [
      "['spider man', 'thor', 'doctor strange', 'blank', 'iron man', 'captain america']\n"
     ]
    }
   ],
   "source": [
    "print(heros)"
   ]
  },
  {
   "cell_type": "code",
   "execution_count": 153,
   "id": "72e1352f",
   "metadata": {},
   "outputs": [
    {
     "name": "stdout",
     "output_type": "stream",
     "text": [
      "['__add__', '__class__', '__class_getitem__', '__contains__', '__delattr__', '__delitem__', '__dir__', '__doc__', '__eq__', '__format__', '__ge__', '__getattribute__', '__getitem__', '__gt__', '__hash__', '__iadd__', '__imul__', '__init__', '__init_subclass__', '__iter__', '__le__', '__len__', '__lt__', '__mul__', '__ne__', '__new__', '__reduce__', '__reduce_ex__', '__repr__', '__reversed__', '__rmul__', '__setattr__', '__setitem__', '__sizeof__', '__str__', '__subclasshook__', 'append', 'clear', 'copy', 'count', 'extend', 'index', 'insert', 'pop', 'remove', 'reverse', 'sort']\n"
     ]
    }
   ],
   "source": [
    "print(dir(list))"
   ]
  },
  {
   "cell_type": "code",
   "execution_count": null,
   "id": "0311a18b",
   "metadata": {},
   "outputs": [],
   "source": []
  }
 ],
 "metadata": {
  "kernelspec": {
   "display_name": "Python 3 (ipykernel)",
   "language": "python",
   "name": "python3"
  },
  "language_info": {
   "codemirror_mode": {
    "name": "ipython",
    "version": 3
   },
   "file_extension": ".py",
   "mimetype": "text/x-python",
   "name": "python",
   "nbconvert_exporter": "python",
   "pygments_lexer": "ipython3",
   "version": "3.10.2"
  }
 },
 "nbformat": 4,
 "nbformat_minor": 5
}

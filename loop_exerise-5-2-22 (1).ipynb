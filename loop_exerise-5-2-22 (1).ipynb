{
 "cells": [
  {
   "cell_type": "markdown",
   "id": "eaf68920",
   "metadata": {},
   "source": [
    "### Write a program to find number is prime or not"
   ]
  },
  {
   "cell_type": "code",
   "execution_count": 5,
   "id": "872c2808",
   "metadata": {},
   "outputs": [
    {
     "name": "stdout",
     "output_type": "stream",
     "text": [
      "enter any number4\n",
      "Not Prime\n"
     ]
    }
   ],
   "source": [
    "num=int(input(\"enter any number\"))\n",
    "\n",
    "for i in range(2,num):\n",
    "    if num%i==0:\n",
    "        print(\"Not Prime\")\n",
    "        break\n",
    "else:\n",
    "    print(\"Prime\")"
   ]
  },
  {
   "cell_type": "markdown",
   "id": "fb6e1953",
   "metadata": {},
   "source": [
    "### Write a program to find factorial number"
   ]
  },
  {
   "cell_type": "code",
   "execution_count": 15,
   "id": "2a79d57f",
   "metadata": {},
   "outputs": [
    {
     "name": "stdout",
     "output_type": "stream",
     "text": [
      "enter any number7\n",
      "The factorial of 7 is = 5040\n"
     ]
    }
   ],
   "source": [
    "num=(int(input(\"enter any number\")))\n",
    "fact=1\n",
    "for i in range(1,num+1):\n",
    "    fact=fact*i\n",
    "else:\n",
    "     print(f\"The factorial of {num} is =\",fact)"
   ]
  },
  {
   "cell_type": "markdown",
   "id": "c0678fc3",
   "metadata": {},
   "source": [
    "### write a program to print 1 to 50 even number"
   ]
  },
  {
   "cell_type": "code",
   "execution_count": 17,
   "id": "4a8e61bb",
   "metadata": {},
   "outputs": [
    {
     "name": "stdout",
     "output_type": "stream",
     "text": [
      "2 4 6 8 10 12 14 16 18 20 22 24 26 28 30 32 34 36 38 40 42 44 46 48 50 "
     ]
    }
   ],
   "source": [
    "for i in range(2,51,2):\n",
    "    print(i,end=\" \")"
   ]
  },
  {
   "cell_type": "markdown",
   "id": "fabee1cf",
   "metadata": {},
   "source": [
    "### write a program to print 1 to 50 odd number"
   ]
  },
  {
   "cell_type": "code",
   "execution_count": 18,
   "id": "5984aed4",
   "metadata": {},
   "outputs": [
    {
     "name": "stdout",
     "output_type": "stream",
     "text": [
      "1 3 5 7 9 11 13 15 17 19 21 23 25 27 29 31 33 35 37 39 41 43 45 47 49 "
     ]
    }
   ],
   "source": [
    "for i in range(1,51,2):\n",
    "    print(i,end=\" \")"
   ]
  },
  {
   "cell_type": "markdown",
   "id": "8d56537a",
   "metadata": {},
   "source": [
    "### write a program to print sum of first 50 natural number"
   ]
  },
  {
   "cell_type": "code",
   "execution_count": 22,
   "id": "ad2c9282",
   "metadata": {},
   "outputs": [
    {
     "name": "stdout",
     "output_type": "stream",
     "text": [
      "1275\n"
     ]
    }
   ],
   "source": [
    "sum=0\n",
    "for i in range(1,51):\n",
    "    sum=sum+i\n",
    "print(sum)"
   ]
  },
  {
   "cell_type": "markdown",
   "id": "68bdf8fb",
   "metadata": {},
   "source": [
    "### write a program first 50 reverse number"
   ]
  },
  {
   "cell_type": "code",
   "execution_count": 25,
   "id": "3087cc1b",
   "metadata": {},
   "outputs": [
    {
     "name": "stdout",
     "output_type": "stream",
     "text": [
      "50 49 48 47 46 45 44 43 42 41 40 39 38 37 36 35 34 33 32 31 30 29 28 27 26 25 24 23 22 21 20 19 18 17 16 15 14 13 12 11 10 9 8 7 6 5 4 3 2 1 "
     ]
    }
   ],
   "source": [
    "for i in range(50,0,-1):\n",
    "    print(i, end=\" \")"
   ]
  },
  {
   "cell_type": "markdown",
   "id": "4239794c",
   "metadata": {},
   "source": [
    "### write a program to print first 50 even number sum"
   ]
  },
  {
   "cell_type": "code",
   "execution_count": 34,
   "id": "e060e67e",
   "metadata": {},
   "outputs": [
    {
     "name": "stdout",
     "output_type": "stream",
     "text": [
      "The sum of first 50 even number =: 2550\n"
     ]
    }
   ],
   "source": [
    "sum=0\n",
    "for i in range(2,101,2):\n",
    "    sum=sum+i\n",
    "print(\"The sum of first 50 even number =:\",sum)"
   ]
  },
  {
   "cell_type": "markdown",
   "id": "537e0a1b",
   "metadata": {},
   "source": [
    "### write a program to print first 50 odd number sum"
   ]
  },
  {
   "cell_type": "code",
   "execution_count": 36,
   "id": "560d2d7a",
   "metadata": {},
   "outputs": [
    {
     "name": "stdout",
     "output_type": "stream",
     "text": [
      "The sum of 50 odd number is =: 2500\n"
     ]
    }
   ],
   "source": [
    "sum=0\n",
    "for i in range(1,101,2):\n",
    "    sum=sum+i\n",
    "print(\"The sum of 50 odd number is =:\",sum)"
   ]
  },
  {
   "cell_type": "markdown",
   "id": "cd0af831",
   "metadata": {},
   "source": [
    "### write Program to find the sum of all numbers stored in a list"
   ]
  },
  {
   "cell_type": "code",
   "execution_count": 40,
   "id": "a82f7430",
   "metadata": {},
   "outputs": [
    {
     "name": "stdout",
     "output_type": "stream",
     "text": [
      "sum of given list number=: 48\n"
     ]
    }
   ],
   "source": [
    "sum=0\n",
    "number=[6,5,3,8,4,2,5,4,11]\n",
    "for i in number:\n",
    "    sum=sum+i\n",
    "print(\"sum of given list number=:\",sum)"
   ]
  },
  {
   "cell_type": "markdown",
   "id": "ac390fb2",
   "metadata": {},
   "source": [
    "### Program to iterate through a list using indexing"
   ]
  },
  {
   "cell_type": "code",
   "execution_count": 61,
   "id": "87c86222",
   "metadata": {},
   "outputs": [
    {
     "name": "stdout",
     "output_type": "stream",
     "text": [
      "Welcome to my friend =: hardik\n",
      "Welcome to my friend =: ankit\n",
      "Welcome to my friend =: pratik\n",
      "Welcome to my friend =: sonu\n"
     ]
    }
   ],
   "source": [
    "list=['hardik','ankit','pratik','sonu']\n",
    "for i in list:\n",
    "    print(\"Welcome to my friend =:\",i)\n",
    "    "
   ]
  },
  {
   "cell_type": "code",
   "execution_count": 67,
   "id": "09ffcb76",
   "metadata": {},
   "outputs": [
    {
     "name": "stdout",
     "output_type": "stream",
     "text": [
      "I like:= hardik\n",
      "I like:= pratik\n",
      "I like:= sonu\n",
      "I like:= ankit\n"
     ]
    }
   ],
   "source": [
    "list=['hardik','pratik','sonu','ankit']\n",
    "for i in range(len(list)):\n",
    "    print(\"I like:=\",list[i])"
   ]
  },
  {
   "cell_type": "code",
   "execution_count": 70,
   "id": "d2d2aea6",
   "metadata": {},
   "outputs": [
    {
     "name": "stdout",
     "output_type": "stream",
     "text": [
      "1\n",
      "20\n",
      "50\n",
      "All is Done\n"
     ]
    }
   ],
   "source": [
    "list=[1,20,50]\n",
    "for i in list:\n",
    "    print(i)\n",
    "else:\n",
    "    print(\"All is Done\")"
   ]
  },
  {
   "cell_type": "code",
   "execution_count": 92,
   "id": "446cb60c",
   "metadata": {},
   "outputs": [
    {
     "name": "stdout",
     "output_type": "stream",
     "text": [
      "1 2 3 4 "
     ]
    }
   ],
   "source": [
    "for i in range(1,11):\n",
    "    if i==5:\n",
    "        break    #stop the loop after 4\n",
    "    print(i,end=\" \")\n",
    "        "
   ]
  },
  {
   "cell_type": "code",
   "execution_count": 94,
   "id": "0265055a",
   "metadata": {},
   "outputs": [
    {
     "name": "stdout",
     "output_type": "stream",
     "text": [
      "1 2 3 4 6 7 8 9 10 "
     ]
    }
   ],
   "source": [
    "for i in range(1,11):\n",
    "    if i==5:\n",
    "        continue      # skip the value of 5\n",
    "    print(i,end=\" \")"
   ]
  },
  {
   "cell_type": "code",
   "execution_count": 116,
   "id": "90d7b82d",
   "metadata": {},
   "outputs": [
    {
     "name": "stdout",
     "output_type": "stream",
     "text": [
      "hardik 90\n",
      "pratik 99\n",
      "sonu 80\n"
     ]
    }
   ],
   "source": [
    "dict_marks={'hardik':90,'pratik':99,'sonu':80}\n",
    "for i in dict_marks:\n",
    "     print(i,dict_marks[i])\n",
    "#     print(dict_marks.keys())\n"
   ]
  },
  {
   "cell_type": "markdown",
   "id": "d8b891cd",
   "metadata": {},
   "source": [
    "### Python Program to Check Leap Year"
   ]
  },
  {
   "cell_type": "code",
   "execution_count": 125,
   "id": "2aff63d7",
   "metadata": {},
   "outputs": [
    {
     "name": "stdout",
     "output_type": "stream",
     "text": [
      "Enter any Year:=2008\n",
      "leap year\n"
     ]
    }
   ],
   "source": [
    "year=int(input(\"Enter any Year:=\"))\n",
    "\n",
    "if year%400==0 and year%100==0:\n",
    "    print(\"leap year\")\n",
    "elif year%4==0 and year%100!=0:\n",
    "    print(\"leap year\")\n",
    "else:\n",
    "    print(\"Not leap year\")"
   ]
  },
  {
   "cell_type": "markdown",
   "id": "6c444e7c",
   "metadata": {},
   "source": [
    "### Python Program to Display the multiplication Table"
   ]
  },
  {
   "cell_type": "code",
   "execution_count": 3,
   "id": "76cffe65",
   "metadata": {},
   "outputs": [
    {
     "name": "stdout",
     "output_type": "stream",
     "text": [
      "enter any number3\n",
      "3 X 1= 3\n",
      "3 X 2= 6\n",
      "3 X 3= 9\n",
      "3 X 4= 12\n",
      "3 X 5= 15\n",
      "3 X 6= 18\n",
      "3 X 7= 21\n",
      "3 X 8= 24\n",
      "3 X 9= 27\n",
      "3 X 10= 30\n"
     ]
    }
   ],
   "source": [
    "number=int(input(\"enter any number\"))\n",
    "\n",
    "for i in range(1,11):\n",
    "    print(f\"{number} X {i}=\",number*i)"
   ]
  },
  {
   "cell_type": "code",
   "execution_count": 127,
   "id": "62b31bab",
   "metadata": {},
   "outputs": [
    {
     "name": "stdout",
     "output_type": "stream",
     "text": [
      "hello hello hello hello hello hello hello hello hello hello "
     ]
    }
   ],
   "source": [
    "a=\"hello\"\n",
    "for i in range(1,11):\n",
    "    print(\"hello\",end=\" \")"
   ]
  },
  {
   "cell_type": "code",
   "execution_count": 128,
   "id": "934c513f",
   "metadata": {},
   "outputs": [],
   "source": [
    "# multiplication operator"
   ]
  },
  {
   "cell_type": "code",
   "execution_count": 170,
   "id": "7a3481b7",
   "metadata": {},
   "outputs": [
    {
     "name": "stdout",
     "output_type": "stream",
     "text": [
      " hello hello hello hello hello hello hello hello hello hello\n"
     ]
    }
   ],
   "source": [
    "a=10\n",
    "print(a * ' hello')"
   ]
  },
  {
   "cell_type": "code",
   "execution_count": 171,
   "id": "c38d9804",
   "metadata": {},
   "outputs": [
    {
     "data": {
      "text/plain": [
       "' * * * * * * * * * *'"
      ]
     },
     "execution_count": 171,
     "metadata": {},
     "output_type": "execute_result"
    }
   ],
   "source": [
    "a=10\n",
    "a*' *'"
   ]
  },
  {
   "cell_type": "code",
   "execution_count": 175,
   "id": "96270283",
   "metadata": {},
   "outputs": [
    {
     "name": "stdout",
     "output_type": "stream",
     "text": [
      " *\n",
      " * *\n",
      " * * *\n",
      " * * * *\n",
      " * * * * *\n"
     ]
    }
   ],
   "source": [
    "for i in range(1,6):\n",
    "    print(i*' *')"
   ]
  },
  {
   "cell_type": "code",
   "execution_count": 176,
   "id": "fa9e080e",
   "metadata": {},
   "outputs": [
    {
     "name": "stdout",
     "output_type": "stream",
     "text": [
      " * * * * *\n",
      " * * * *\n",
      " * * *\n",
      " * *\n",
      " *\n"
     ]
    }
   ],
   "source": [
    "for i in range(5,0,-1):\n",
    "    print(i*' *')"
   ]
  },
  {
   "cell_type": "code",
   "execution_count": 192,
   "id": "07ee1ed0",
   "metadata": {},
   "outputs": [
    {
     "name": "stdout",
     "output_type": "stream",
     "text": [
      "      *\n",
      "     * *\n",
      "    * * *\n",
      "   * * * *\n",
      "  * * * * *\n"
     ]
    }
   ],
   "source": [
    "for i in range(1,6):\n",
    "    print(\" \"*(5-i),i *' *')\n",
    "   "
   ]
  },
  {
   "cell_type": "code",
   "execution_count": 5,
   "id": "154f4421",
   "metadata": {},
   "outputs": [
    {
     "name": "stdout",
     "output_type": "stream",
     "text": [
      "           *\n",
      "          * *\n",
      "         * * *\n",
      "        * * * *\n",
      "       * * * * *\n",
      "      * * * * * *\n",
      "     * * * * * * *\n",
      "    * * * * * * * *\n",
      "   * * * * * * * * *\n",
      "  * * * * * * * * * *\n"
     ]
    }
   ],
   "source": [
    "for i in range(1,11):\n",
    "    print(' '*(10-i),i*' *')"
   ]
  },
  {
   "cell_type": "code",
   "execution_count": 196,
   "id": "0b15a370",
   "metadata": {},
   "outputs": [
    {
     "name": "stdout",
     "output_type": "stream",
     "text": [
      "  * * * * *\n",
      "   * * * *\n",
      "    * * *\n",
      "     * *\n",
      "      *\n"
     ]
    }
   ],
   "source": [
    "for i in range(5,0,-1):\n",
    "    print(' '*(5-i),i*' *')"
   ]
  },
  {
   "cell_type": "code",
   "execution_count": 11,
   "id": "07ae61da",
   "metadata": {},
   "outputs": [
    {
     "name": "stdout",
     "output_type": "stream",
     "text": [
      "      *\n",
      "     * *\n",
      "    * * *\n",
      "   * * * *\n",
      "  * * * * *\n",
      "  * * * * *\n",
      "   * * * *\n",
      "    * * *\n",
      "     * *\n",
      "      *\n"
     ]
    }
   ],
   "source": [
    "for i in range(1,6):\n",
    "    print(\" \"*(5-i),i*' *')\n",
    "for i in range(5,0,-1):\n",
    "    print(\" \"*(5-i),i*' *')"
   ]
  },
  {
   "cell_type": "code",
   "execution_count": 200,
   "id": "274b37ac",
   "metadata": {},
   "outputs": [
    {
     "name": "stdout",
     "output_type": "stream",
     "text": [
      " *\n",
      " * *\n",
      " * * *\n",
      " * * * *\n",
      " * * * * *\n",
      " * * * *\n",
      " * * *\n",
      " * *\n",
      " *\n"
     ]
    }
   ],
   "source": [
    "for i in range(1,6):\n",
    "    print(i*' *')\n",
    "for i in range(4,0,-1):\n",
    "    print(i*' *')"
   ]
  },
  {
   "cell_type": "code",
   "execution_count": 202,
   "id": "3fe8633c",
   "metadata": {},
   "outputs": [
    {
     "name": "stdout",
     "output_type": "stream",
     "text": [
      "  * * * * *\n",
      "   * * * *\n",
      "    * * *\n",
      "     * *\n",
      "      *\n"
     ]
    }
   ],
   "source": [
    "for i in range(5,0,-1):\n",
    "    print(' '*(5-i),i*' *')"
   ]
  },
  {
   "cell_type": "code",
   "execution_count": 205,
   "id": "2c4e89da",
   "metadata": {},
   "outputs": [
    {
     "name": "stdout",
     "output_type": "stream",
     "text": [
      "           *\n",
      "          * *\n",
      "         * * *\n",
      "        * * * *\n",
      "       * * * * *\n",
      "      * * * * * *\n",
      "     * * * * * * *\n",
      "    * * * * * * * *\n",
      "   * * * * * * * * *\n",
      "  * * * * * * * * * *\n",
      "  * * * * * * * * * *\n",
      "   * * * * * * * * *\n",
      "    * * * * * * * *\n",
      "     * * * * * * *\n",
      "      * * * * * *\n",
      "       * * * * *\n",
      "        * * * *\n",
      "         * * *\n",
      "          * *\n",
      "           *\n"
     ]
    }
   ],
   "source": [
    "for i in range(1,11):\n",
    "    print(' '*(10-i),i * ' *')\n",
    "for i in range(10,0,-1):\n",
    "    print(' '*(10-i),i*' *')"
   ]
  },
  {
   "cell_type": "code",
   "execution_count": 219,
   "id": "0d480700",
   "metadata": {},
   "outputs": [
    {
     "name": "stdout",
     "output_type": "stream",
     "text": [
      "                    * *\n",
      "                * * * *\n",
      "            * * * * * *\n",
      "        * * * * * * * *\n",
      "    * * * * * * * * * *\n"
     ]
    }
   ],
   "source": [
    "for i in range(2,11,2):    #even star pattern\n",
    "    print('  '*(11-i),i*' *')"
   ]
  },
  {
   "cell_type": "code",
   "execution_count": 13,
   "id": "aa10e6ac",
   "metadata": {},
   "outputs": [
    {
     "name": "stdout",
     "output_type": "stream",
     "text": [
      "                      *\n",
      "                  * * *\n",
      "              * * * * *\n",
      "          * * * * * * *\n",
      "      * * * * * * * * *\n"
     ]
    }
   ],
   "source": [
    "for i in range(1,11,2):       #odd star pattern\n",
    "    print('  '*(11-i),i*' *')"
   ]
  },
  {
   "cell_type": "code",
   "execution_count": 223,
   "id": "19d7f25f",
   "metadata": {},
   "outputs": [
    {
     "name": "stdout",
     "output_type": "stream",
     "text": [
      "1\n",
      "2\n",
      "3\n",
      "4\n",
      "1\n",
      "2\n",
      "3\n",
      "4\n",
      "1\n",
      "2\n",
      "3\n",
      "4\n",
      "1\n",
      "2\n",
      "3\n",
      "4\n"
     ]
    }
   ],
   "source": [
    "i=1\n",
    "while i<5:\n",
    "    j=1\n",
    "    while j<5:\n",
    "        print(j)\n",
    "        j=j+1\n",
    "    i=i+1\n",
    "    "
   ]
  },
  {
   "cell_type": "code",
   "execution_count": 246,
   "id": "beb0ba31",
   "metadata": {},
   "outputs": [
    {
     "name": "stdout",
     "output_type": "stream",
     "text": [
      "Hello 1\n",
      "Hello 2\n",
      "Hello 3\n",
      "Hello 4\n",
      "Hello 5\n",
      "Hello 6\n",
      "Hello 7\n",
      "Hello 8\n",
      "Hello 9\n",
      "Hello 10\n",
      "Hello 11\n",
      "Hello 12\n",
      "Hello 13\n",
      "Hello 14\n",
      "Hello 15\n",
      "Hello 16\n",
      "Hello 17\n",
      "Hello 18\n",
      "Hello 19\n",
      "Hello 20\n",
      "Hello 21\n",
      "Hello 22\n",
      "Hello 23\n",
      "Hello 24\n",
      "Hello 25\n",
      "Hello 26\n",
      "Hello 27\n",
      "Hello 28\n",
      "Hello 29\n",
      "Hello 30\n",
      "Hello 31\n",
      "Hello 32\n",
      "Hello 33\n",
      "Hello 34\n",
      "Hello 35\n",
      "Hello 36\n",
      "Hello 37\n",
      "Hello 38\n",
      "Hello 39\n",
      "Hello 40\n",
      "Hello 41\n",
      "Hello 42\n",
      "Hello 43\n",
      "Hello 44\n",
      "Hello 45\n",
      "Hello 46\n",
      "Hello 47\n",
      "Hello 48\n",
      "Hello 49\n",
      "Hello 50\n",
      "Hello 51\n",
      "Hello 52\n",
      "Hello 53\n",
      "Hello 54\n",
      "Hello 55\n",
      "Hello 56\n",
      "Hello 57\n",
      "Hello 58\n",
      "Hello 59\n",
      "Hello 60\n",
      "Hello 61\n",
      "Hello 62\n",
      "Hello 63\n",
      "Hello 64\n",
      "Hello 65\n",
      "Hello 66\n",
      "Hello 67\n",
      "Hello 68\n",
      "Hello 69\n",
      "Hello 70\n",
      "Hello 71\n",
      "Hello 72\n",
      "Hello 73\n",
      "Hello 74\n",
      "Hello 75\n",
      "Hello 76\n",
      "Hello 77\n",
      "Hello 78\n",
      "Hello 79\n",
      "Hello 80\n",
      "Hello 81\n",
      "Hello 82\n",
      "Hello 83\n",
      "Hello 84\n",
      "Hello 85\n",
      "Hello 86\n",
      "Hello 87\n",
      "Hello 88\n",
      "Hello 89\n",
      "Hello 90\n",
      "Hello 91\n",
      "Hello 92\n",
      "Hello 93\n",
      "Hello 94\n",
      "Hello 95\n",
      "Hello 96\n",
      "Hello 97\n",
      "Hello 98\n",
      "Hello 99\n",
      "Hello 100\n"
     ]
    }
   ],
   "source": [
    "    c=1\n",
    "    for i in range(10):\n",
    "        for j in range(10):\n",
    "            print(\"Hello\",c)\n",
    "            c=c+1"
   ]
  },
  {
   "cell_type": "code",
   "execution_count": 249,
   "id": "f4921118",
   "metadata": {},
   "outputs": [
    {
     "name": "stdout",
     "output_type": "stream",
     "text": [
      "1 1\n",
      "2 2\n",
      "3 3\n",
      "1 4\n",
      "2 5\n",
      "3 6\n",
      "1 7\n",
      "2 8\n",
      "3 9\n",
      "1 10\n",
      "2 11\n",
      "3 12\n",
      "1 13\n",
      "2 14\n",
      "3 15\n"
     ]
    }
   ],
   "source": [
    "c=1\n",
    "for i in range(1,6):\n",
    "    for j in range(1,4):\n",
    "        print(j,c)\n",
    "        c=c+1"
   ]
  },
  {
   "cell_type": "code",
   "execution_count": 255,
   "id": "fa99feb4",
   "metadata": {},
   "outputs": [
    {
     "name": "stdout",
     "output_type": "stream",
     "text": [
      "1 1\n",
      "1 2\n",
      "2 3\n",
      "1 4\n",
      "2 5\n",
      "3 6\n",
      "1 7\n",
      "2 8\n",
      "3 9\n",
      "4 10\n"
     ]
    }
   ],
   "source": [
    "c=1\n",
    "for i in range(1,6):\n",
    "    for j in range(1,i):   \n",
    "        print(j,c)   \n",
    "        c=c+1"
   ]
  },
  {
   "cell_type": "code",
   "execution_count": 263,
   "id": "cc229949",
   "metadata": {},
   "outputs": [
    {
     "name": "stdout",
     "output_type": "stream",
     "text": [
      "0 0 0 0 0 \n",
      "0 0 0 0 0 \n",
      "0 0 H 0 0 \n",
      "0 0 0 0 0 \n",
      "0 0 0 0 0 \n"
     ]
    }
   ],
   "source": [
    "for i in range(1,6):\n",
    "    for j in range(1,6):\n",
    "        if i==3 and j==3:\n",
    "            print('H',end=\" \")\n",
    "        else:\n",
    "            print(0,end=\" \")\n",
    "    print()"
   ]
  },
  {
   "cell_type": "code",
   "execution_count": 272,
   "id": "351af3fe",
   "metadata": {},
   "outputs": [
    {
     "name": "stdout",
     "output_type": "stream",
     "text": [
      "*     * \n",
      "*     * \n",
      "* * * * \n",
      "*     * \n",
      "*     * \n"
     ]
    }
   ],
   "source": [
    " for i in range(5):\n",
    "    for j in range(4):\n",
    "        if j==0 or j==3 or i==2:\n",
    "            print('*',end=' ')\n",
    "        else:\n",
    "            print(end='  ')\n",
    "    print()"
   ]
  },
  {
   "cell_type": "code",
   "execution_count": 277,
   "id": "9ca58cf3",
   "metadata": {},
   "outputs": [
    {
     "name": "stdout",
     "output_type": "stream",
     "text": [
      "*     * \n",
      "*     * \n",
      "* * * * \n",
      "*     * \n",
      "*     * \n"
     ]
    }
   ],
   "source": [
    "for i in range(5):\n",
    "    for j in range(4):\n",
    "        if j==0 or j==3 or i==2:\n",
    "            print('*',end=\" \")\n",
    "        else:\n",
    "            print(end=\"  \")\n",
    "    print()"
   ]
  },
  {
   "cell_type": "code",
   "execution_count": 306,
   "id": "f0d8f7c9",
   "metadata": {},
   "outputs": [
    {
     "name": "stdout",
     "output_type": "stream",
     "text": [
      "1 0\n",
      "2 0\n",
      "2 1\n"
     ]
    }
   ],
   "source": [
    "for i in range(1,3):\n",
    "    for j in range(i):\n",
    "        print(i,j)"
   ]
  },
  {
   "cell_type": "code",
   "execution_count": 303,
   "id": "68f48d8d",
   "metadata": {},
   "outputs": [
    {
     "name": "stdout",
     "output_type": "stream",
     "text": [
      "1 X 1 = 1 1 X 2 = 2 1 X 3 = 3 1 X 4 = 4 1 X 5 = 5 1 X 6 = 6 1 X 7 = 7 1 X 8 = 8 1 X 9 = 9 1 X 10 = 10 \n",
      "2 X 1 = 2 2 X 2 = 4 2 X 3 = 6 2 X 4 = 8 2 X 5 = 10 2 X 6 = 12 2 X 7 = 14 2 X 8 = 16 2 X 9 = 18 2 X 10 = 20 \n",
      "3 X 1 = 3 3 X 2 = 6 3 X 3 = 9 3 X 4 = 12 3 X 5 = 15 3 X 6 = 18 3 X 7 = 21 3 X 8 = 24 3 X 9 = 27 3 X 10 = 30 \n",
      "4 X 1 = 4 4 X 2 = 8 4 X 3 = 12 4 X 4 = 16 4 X 5 = 20 4 X 6 = 24 4 X 7 = 28 4 X 8 = 32 4 X 9 = 36 4 X 10 = 40 \n",
      "5 X 1 = 5 5 X 2 = 10 5 X 3 = 15 5 X 4 = 20 5 X 5 = 25 5 X 6 = 30 5 X 7 = 35 5 X 8 = 40 5 X 9 = 45 5 X 10 = 50 \n",
      "6 X 1 = 6 6 X 2 = 12 6 X 3 = 18 6 X 4 = 24 6 X 5 = 30 6 X 6 = 36 6 X 7 = 42 6 X 8 = 48 6 X 9 = 54 6 X 10 = 60 \n",
      "7 X 1 = 7 7 X 2 = 14 7 X 3 = 21 7 X 4 = 28 7 X 5 = 35 7 X 6 = 42 7 X 7 = 49 7 X 8 = 56 7 X 9 = 63 7 X 10 = 70 \n",
      "8 X 1 = 8 8 X 2 = 16 8 X 3 = 24 8 X 4 = 32 8 X 5 = 40 8 X 6 = 48 8 X 7 = 56 8 X 8 = 64 8 X 9 = 72 8 X 10 = 80 \n",
      "9 X 1 = 9 9 X 2 = 18 9 X 3 = 27 9 X 4 = 36 9 X 5 = 45 9 X 6 = 54 9 X 7 = 63 9 X 8 = 72 9 X 9 = 81 9 X 10 = 90 \n",
      "10 X 1 = 10 10 X 2 = 20 10 X 3 = 30 10 X 4 = 40 10 X 5 = 50 10 X 6 = 60 10 X 7 = 70 10 X 8 = 80 10 X 9 = 90 10 X 10 = 100 \n"
     ]
    }
   ],
   "source": [
    "for i in range(1,11):\n",
    "    for j in range(1,11):\n",
    "        print(f\"{i} X {j} =\" ,i*j,end=\" \")\n",
    "    print()"
   ]
  },
  {
   "cell_type": "code",
   "execution_count": 316,
   "id": "3cfd0ab1",
   "metadata": {},
   "outputs": [
    {
     "name": "stdout",
     "output_type": "stream",
     "text": [
      "outer 0\n",
      "outer 1\n",
      "hello 0\n",
      "outer 2\n",
      "hello 0\n",
      "hello 1\n",
      "outer 3\n",
      "hello 0\n",
      "hello 1\n",
      "hello 2\n",
      "outer 4\n",
      "hello 0\n",
      "hello 1\n",
      "hello 2\n",
      "hello 3\n"
     ]
    }
   ],
   "source": [
    "for i in range(0,5):\n",
    "    print(\"outer\",i)\n",
    "    for j in range(i):\n",
    "        print(\"hello\",j)\n"
   ]
  },
  {
   "cell_type": "code",
   "execution_count": 317,
   "id": "cba1f3d2",
   "metadata": {},
   "outputs": [
    {
     "name": "stdout",
     "output_type": "stream",
     "text": [
      "hello 1\n",
      "hello 2\n",
      "hello 3\n",
      "hello 4\n",
      "hello 5\n",
      "hello 6\n"
     ]
    }
   ],
   "source": [
    "c=1\n",
    "for i in  range(4):\n",
    "    for j in range(i):\n",
    "        print('hello',c)\n",
    "        c+=1"
   ]
  },
  {
   "cell_type": "code",
   "execution_count": 17,
   "id": "1f37715f",
   "metadata": {},
   "outputs": [
    {
     "name": "stdout",
     "output_type": "stream",
     "text": [
      " *\n",
      " * *\n",
      " * * *\n",
      " * * * *\n",
      " * * * * *\n"
     ]
    }
   ],
   "source": [
    "for i in range(1,6):\n",
    "    for j in range(1,i+1):\n",
    "        print(' *',end=\"\")\n",
    "    print()\n",
    "    "
   ]
  },
  {
   "cell_type": "code",
   "execution_count": null,
   "id": "964833af",
   "metadata": {},
   "outputs": [],
   "source": []
  },
  {
   "cell_type": "code",
   "execution_count": null,
   "id": "57b4f7c7",
   "metadata": {},
   "outputs": [],
   "source": []
  }
 ],
 "metadata": {
  "kernelspec": {
   "display_name": "Python 3 (ipykernel)",
   "language": "python",
   "name": "python3"
  },
  "language_info": {
   "codemirror_mode": {
    "name": "ipython",
    "version": 3
   },
   "file_extension": ".py",
   "mimetype": "text/x-python",
   "name": "python",
   "nbconvert_exporter": "python",
   "pygments_lexer": "ipython3",
   "version": "3.10.2"
  }
 },
 "nbformat": 4,
 "nbformat_minor": 5
}
